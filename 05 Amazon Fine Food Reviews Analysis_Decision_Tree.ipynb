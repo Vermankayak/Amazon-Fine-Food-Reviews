{
 "cells": [
  {
   "cell_type": "markdown",
   "metadata": {},
   "source": [
    "# Amazon Fine Food Reviews Analysis\n",
    "\n",
    "\n",
    "Data Source: https://www.kaggle.com/snap/amazon-fine-food-reviews <br>\n",
    "\n",
    "EDA: https://nycdatascience.com/blog/student-works/amazon-fine-foods-visualization/\n",
    "\n",
    "\n",
    "The Amazon Fine Food Reviews dataset consists of reviews of fine foods from Amazon.<br>\n",
    "\n",
    "Number of reviews: 568,454<br>\n",
    "Number of users: 256,059<br>\n",
    "Number of products: 74,258<br>\n",
    "Timespan: Oct 1999 - Oct 2012<br>\n",
    "Number of Attributes/Columns in data: 10 \n",
    "\n",
    "Attribute Information:\n",
    "\n",
    "1. Id\n",
    "2. ProductId - unique identifier for the product\n",
    "3. UserId - unqiue identifier for the user\n",
    "4. ProfileName\n",
    "5. HelpfulnessNumerator - number of users who found the review helpful\n",
    "6. HelpfulnessDenominator - number of users who indicated whether they found the review helpful or not\n",
    "7. Score - rating between 1 and 5\n",
    "8. Time - timestamp for the review\n",
    "9. Summary - brief summary of the review\n",
    "10. Text - text of the review\n",
    "\n",
    "\n",
    "#### Objective:\n",
    "Given a review, determine whether the review is positive (rating of 4 or 5) or negative (rating of 1 or 2).\n",
    "\n",
    "<br>\n",
    "[Q] How to determine if a review is positive or negative?<br>\n",
    "<br> \n",
    "[Ans] We could use Score/Rating. A rating of 4 or 5 can be cosnidered as a positive review. A rating of 1 or 2 can be considered as negative one. A review of rating 3 is considered nuetral and such reviews are ignored from our analysis. This is an approximate and proxy way of determining the polarity (positivity/negativity) of a review.\n",
    "\n",
    "\n"
   ]
  },
  {
   "cell_type": "code",
   "execution_count": 1,
   "metadata": {},
   "outputs": [],
   "source": [
    "%matplotlib inline\n",
    "import warnings\n",
    "warnings.filterwarnings('ignore')"
   ]
  },
  {
   "cell_type": "markdown",
   "metadata": {},
   "source": [
    "# 1. Loading Libraries"
   ]
  },
  {
   "cell_type": "code",
   "execution_count": 5,
   "metadata": {},
   "outputs": [],
   "source": [
    "import sqlite3\n",
    "import pandas as pd\n",
    "import numpy as np\n",
    "import nltk\n",
    "import string\n",
    "import matplotlib.pyplot as plt\n",
    "import seaborn as sns\n",
    "import scipy.sparse as ss\n",
    "import prettytable\n",
    "from sklearn.tree import DecisionTreeClassifier\n",
    "from sklearn.preprocessing import StandardScaler\n",
    "from sklearn.model_selection import GridSearchCV\n",
    "from sklearn.model_selection import cross_val_score\n",
    "from sklearn import preprocessing\n",
    "from sklearn.model_selection import cross_validate\n",
    "from sklearn.feature_extraction.text import TfidfTransformer\n",
    "from sklearn.feature_extraction.text import TfidfVectorizer\n",
    "from sklearn.feature_extraction.text import CountVectorizer\n",
    "from sklearn.metrics import confusion_matrix\n",
    "from sklearn.metrics import precision_score\n",
    "from sklearn.metrics import recall_score\n",
    "from sklearn.metrics import f1_score\n",
    "from sklearn import metrics\n",
    "from sklearn.metrics import roc_curve,roc_auc_score,auc\n",
    "from nltk.stem.porter import PorterStemmer\n",
    "from sklearn.model_selection import cross_validate\n",
    "import re # Go to https://pymotw.com/2/re/\n",
    "import string\n",
    "from nltk.corpus import stopwords\n",
    "from nltk.stem import WordNetLemmatizer\n",
    "from nltk.stem.wordnet import WordNetLemmatizer\n",
    "from gensim.models import Word2Vec\n",
    "from gensim.models import KeyedVectors\n",
    "import pickle\n",
    "from tqdm import tqdm\n",
    "import os"
   ]
  },
  {
   "cell_type": "code",
   "execution_count": 6,
   "metadata": {},
   "outputs": [],
   "source": [
    "#Loading the dataset that we cleaned in TSNE project\n",
    "df = pd.read_csv(r'C:\\Users\\nihar\\affrd_cleaned_preprocessed.csv')"
   ]
  },
  {
   "cell_type": "code",
   "execution_count": 7,
   "metadata": {},
   "outputs": [
    {
     "data": {
      "text/plain": [
       "positive    307061\n",
       "negative     57110\n",
       "Name: Score, dtype: int64"
      ]
     },
     "execution_count": 7,
     "metadata": {},
     "output_type": "execute_result"
    }
   ],
   "source": [
    "df['Score'].value_counts() #counting the number of positive and negative datapoints"
   ]
  },
  {
   "cell_type": "code",
   "execution_count": 10,
   "metadata": {},
   "outputs": [],
   "source": [
    "#randomly sampling positive and negative datapoints and from the dataframe 'df' and creating new data frame total_points\n",
    "positive_points = df[df['Score'] == 'positive'].sample(n=20000, random_state=0)#randomly sampling 20k positive points\n",
    "negative_points = df[df['Score'] == 'negative'].sample(n=20000, random_state=0)# randomly sampling 20k negative points\n",
    "total_points = pd.concat([positive_points, negative_points])#concatenating the positive_points and negative_points dataframe\n",
    "\n",
    "# Sorting based on time\n",
    "sorted_data = total_points.sort_values('Time', #Here we are sorting filtered_data according to Time in \n",
    "                                       axis = 0,    #- ascending order so that we can do time based splitting later.\n",
    "                                     inplace = False, #inpace = false because we dont want to make modifications in-\n",
    "                                      #- fitered data rather we want to keep filtered_data preserved and store the modified-\n",
    "                                      #- data in sorted_data\n",
    "                                    kind = 'quicksort',\n",
    "                                     na_position = 'last')\n",
    "sorted_data['Score'].value_counts()\n",
    "sorted_data.to_csv('sorted_data_df.csv')\n",
    "sorted_data = pd.read_csv('sorted_data_df.csv')"
   ]
  },
  {
   "cell_type": "code",
   "execution_count": 11,
   "metadata": {},
   "outputs": [
    {
     "data": {
      "text/plain": [
       "(40000, 13)"
      ]
     },
     "execution_count": 11,
     "metadata": {},
     "output_type": "execute_result"
    }
   ],
   "source": [
    "sorted_data.shape"
   ]
  },
  {
   "cell_type": "code",
   "execution_count": 12,
   "metadata": {},
   "outputs": [],
   "source": [
    "#storing my 'cleaned text' column in d_train into datapoint matrix x_train and 'Score' column in d_train into y_train-\n",
    "#- and similar thing we are doing for, d_cv and d_test\n",
    "d_train = sorted_data.iloc[0:20000] #taking top 60k data points from sorted_data and storing it in d_train\n",
    "d_cv = sorted_data.iloc[20000:30000]#taking next 20k data points from sorted_data and storing it in d_cv\n",
    "d_test = sorted_data.iloc[30000:40000]#taking last 20k data points from sorted_data and storing it in d_test"
   ]
  },
  {
   "cell_type": "code",
   "execution_count": 13,
   "metadata": {},
   "outputs": [],
   "source": [
    "#Storing 'CleanedText' and 'Score' columns in d_train into x_train and y_train respectively and doing the same for d_cv and-\n",
    "#-d_test\n",
    "x_train = d_train['CleanedText']\n",
    "x_cv = d_cv['CleanedText']\n",
    "x_test = d_test['CleanedText']\n",
    "y_train = d_train['Score']\n",
    "y_cv = d_cv['Score']\n",
    "y_test = d_test['Score']"
   ]
  },
  {
   "cell_type": "code",
   "execution_count": 14,
   "metadata": {},
   "outputs": [
    {
     "data": {
      "text/plain": [
       "LabelBinarizer(neg_label=0, pos_label=1, sparse_output=False)"
      ]
     },
     "execution_count": 14,
     "metadata": {},
     "output_type": "execute_result"
    }
   ],
   "source": [
    "#changing 'negative' to 0 and 'positive' to 1 in y_train and binarizing the elements in y_train such that now-\n",
    "#- 1 will represent positive points and 0 will represent negative points\n",
    "lb = preprocessing.LabelBinarizer()\n",
    "list_1 = []\n",
    "for i in y_train:\n",
    "    if i == 'negative':\n",
    "        list_1.append(0)\n",
    "    else:\n",
    "        list_1.append(1)\n",
    "a = pd.DataFrame(list_1)\n",
    "y_train = a\n",
    "lb.fit(y_train)"
   ]
  },
  {
   "cell_type": "code",
   "execution_count": 15,
   "metadata": {},
   "outputs": [
    {
     "data": {
      "text/plain": [
       "LabelBinarizer(neg_label=0, pos_label=1, sparse_output=False)"
      ]
     },
     "execution_count": 15,
     "metadata": {},
     "output_type": "execute_result"
    }
   ],
   "source": [
    "#changing 'negative' to 0 and 'positive' to 1 in y_cv and binarizing the elements in y_cv such that now-\n",
    "#- 1 will represent positive points and 0 will represent negative points\n",
    "lb = preprocessing.LabelBinarizer()\n",
    "list_1 = []\n",
    "for i in y_cv:\n",
    "    if i == 'negative':\n",
    "        list_1.append(0)\n",
    "    else:\n",
    "        list_1.append(1)\n",
    "a = pd.DataFrame(list_1)\n",
    "y_cv = a\n",
    "lb.fit(y_cv)"
   ]
  },
  {
   "cell_type": "code",
   "execution_count": 16,
   "metadata": {},
   "outputs": [
    {
     "data": {
      "text/plain": [
       "LabelBinarizer(neg_label=0, pos_label=1, sparse_output=False)"
      ]
     },
     "execution_count": 16,
     "metadata": {},
     "output_type": "execute_result"
    }
   ],
   "source": [
    "#changing 'negative' to 0 and 'positive' to 1 in y_test and binarizing the elements in y_test such that now-\n",
    "#- 1 will represent positive points and 0 will represent negative points\n",
    "list_1 = []\n",
    "for i in y_test:\n",
    "    if i == 'negative':\n",
    "        list_1.append(0)\n",
    "    else:\n",
    "        list_1.append(1)\n",
    "a = pd.DataFrame(list_1)\n",
    "y_test = a\n",
    "lb.fit(y_test)"
   ]
  },
  {
   "cell_type": "code",
   "execution_count": 17,
   "metadata": {},
   "outputs": [
    {
     "data": {
      "text/plain": [
       "(20000, 1)"
      ]
     },
     "execution_count": 17,
     "metadata": {},
     "output_type": "execute_result"
    }
   ],
   "source": [
    "y_train.shape"
   ]
  },
  {
   "cell_type": "code",
   "execution_count": 18,
   "metadata": {},
   "outputs": [],
   "source": [
    "y_train= np.ravel(y_train)\n",
    "y_cv= np.ravel(y_cv)\n",
    "y_test= np.ravel(y_test)"
   ]
  },
  {
   "cell_type": "code",
   "execution_count": 19,
   "metadata": {},
   "outputs": [
    {
     "data": {
      "text/plain": [
       "(20000,)"
      ]
     },
     "execution_count": 19,
     "metadata": {},
     "output_type": "execute_result"
    }
   ],
   "source": [
    "y_train.shape"
   ]
  },
  {
   "cell_type": "markdown",
   "metadata": {},
   "source": [
    "# 2. Bag of words (BOW)"
   ]
  },
  {
   "cell_type": "code",
   "execution_count": 34,
   "metadata": {},
   "outputs": [
    {
     "name": "stdout",
     "output_type": "stream",
     "text": [
      "{'alway': 44, 'enjoy': 471, 'movi': 932, 'funni': 592, 'didnt': 397, 'hesit': 690, 'pick': 1049, 'guess': 651, 'market': 875, 'plan': 1059, 'make': 864, 'famili': 513, 'someth': 1327, 'strong': 1394, 'usual': 1558, 'version': 1569, 'warn': 1586, 'want': 1583, 'avoid': 89, 'bring': 176, 'often': 980, 'come': 280, 'like': 821, 'find': 538, 'one': 987, 'snack': 1315, 'popcorn': 1075, 'favorit': 524, 'part': 1024, 'room': 1206, 'classic': 264, 'moment': 923, 'miss': 914, 'couldnt': 319, 'stop': 1385, 'great': 637, 'keep': 771, 'cant': 210, 'watch': 1590, 'time': 1487, 'ever': 482, 'made': 858, 'mix': 916, 'strang': 1390, 'stori': 1388, 'along': 38, 'thing': 1472, 'world': 1630, 'live': 834, 'dead': 364, 'recent': 1156, 'wait': 1578, 'hous': 710, 'year': 1645, 'peopl': 1038, 'tri': 1526, 'break': 169, 'cover': 326, 'take': 1438, 'place': 1057, 'excel': 490, 'job': 765, 'see': 1247, 'use': 1557, 'machin': 857, 'purchas': 1124, 'amazon': 46, 'produc': 1109, 'delici': 376, 'latt': 798, 'pod': 1069, 'smell': 1311, 'regular': 1169, 'decaf': 368, 'open': 991, 'incred': 731, 'dark': 359, 'rich': 1194, 'roast': 1202, 'itali': 756, 'good': 619, 'sign': 1287, 'also': 41, 'handi': 660, 'paper': 1022, 'remov': 1175, 'without': 1625, 'burn': 190, 'finger': 540, 'compar': 286, 'starbuck': 1369, 'espresso': 476, 'individu': 735, 'wrap': 1638, 'lot': 848, 'space': 1342, 'sure': 1426, 'know': 785, 'your': 1655, 'go': 613, 'store': 1387, 'box': 165, 'best': 130, 'date': 361, 'case': 221, 'month': 925, 'beauti': 116, 'first': 543, 'three': 1478, 'plus': 1067, 'bunch': 189, 'stuff': 1399, 'littl': 833, 'cardboard': 216, 'origin': 997, 'sort': 1335, 'thrill': 1480, 'far': 518, 'excit': 493, 'got': 622, 'caught': 224, 'unfortun': 1545, 'qualiti': 1129, 'pop': 1074, 'broke': 177, 'though': 1476, 'toss': 1506, 'fun': 591, 'dont': 424, 'get': 604, 'let': 812, 'person': 1045, 'said': 1218, 'feel': 529, 'need': 947, 'tell': 1451, 'detail': 391, 'terribl': 1457, 'packag': 1012, 'fine': 539, 'noth': 963, 'work': 1629, 'pictur': 1051, 'sound': 1336, 'experi': 496, 'howev': 712, 'complet': 290, 'trash': 1522, 'extra': 500, 'extrem': 502, 'play': 1062, 'actual': 9, 'select': 1251, 'what': 1606, 'problem': 1107, 'recal': 1154, 'top': 1505, 'think': 1473, 'could': 318, 'better': 132, 'garbag': 596, 'sick': 1285, 'tire': 1492, 'compani': 285, 'away': 92, 'sell': 1252, 'doubl': 427, 'side': 1286, 'stick': 1379, 'whole': 1614, 'switch': 1433, 'scratch': 1239, 'theyr': 1467, 'put': 1128, 'thought': 1477, 'crap': 330, 'togeth': 1497, 'clean': 265, 'product': 1110, 'standard': 1366, 'cheaper': 236, 'pay': 1031, 'premium': 1091, 'buy': 194, 'easier': 450, 'addit': 13, 'pump': 1121, 'enough': 472, 'air': 30, 'wine': 1619, 'bottl': 161, 'leav': 807, 'much': 934, 'point': 1070, 'drink': 435, 'french': 575, 'appear': 64, 'label': 790, 'normal': 960, 'would': 1635, 'descript': 384, 'say': 1234, 'shot': 1280, 'brew': 173, 'coffe': 274, 'press': 1095, 'either': 462, 'here': 688, 'requir': 1181, 'grind': 642, 'cours': 325, 'ground': 647, 'pass': 1028, 'filter': 536, 'cup': 349, 'cafe': 196, 'entir': 473, 'differ': 401, 'beverag': 133, 'therefor': 1465, 'imposs': 725, 'kind': 779, 'maker': 865, 'size': 1300, 'bean': 113, 'tast': 1444, 'particular': 1027, 'level': 813, 'vari': 1561, 'way': 1593, 'seem': 1249, 'care': 217, 'still': 1381, 'supermarket': 1420, 'special': 1346, 'sourc': 1339, 'chees': 239, 'hot': 708, 'dog': 421, 'anyway': 59, 'realli': 1152, 'lose': 845, 'flavor': 551, 'around': 72, 'drip': 438, 'els': 463, 'pot': 1082, 'nice': 955, 'deal': 365, 'search': 1242, 'money': 924, 'will': 1618, 'local': 838, 'shop': 1278, 'give': 608, 'fresh': 577, 'matter': 878, 'near': 945, 'theyv': 1468, 'sit': 1296, 'ask': 77, 'correct': 314, 'amount': 50, 'right': 1197, 'bitter': 144, 'especi': 475, 'mean': 882, 'water': 1591, 'definit': 373, 'pleasur': 1065, 'suppos': 1425, 'help': 685, 'solid': 1323, 'valu': 1559, 'sens': 1255, 'delight': 377, 'sauc': 1231, 'inde': 732, 'spici': 1351, 'brand': 167, 'mild': 901, 'wonder': 1626, 'rub': 1211, 'husband': 716, 'doesnt': 420, 'sweeter': 1432, 'type': 1541, 'bbq': 112, 'love': 849, 'everyon': 485, 'receiv': 1155, 'assort': 79, 'gift': 605, 'decad': 367, 'creami': 335, 'back': 96, 'day': 363, 'across': 7, 'europ': 479, 'neither': 950, 'wife': 1616, 'sharp': 1270, 'tangi': 1441, 'ate': 81, 'smaller': 1310, 'portion': 1078, 'never': 951, 'becom': 118, 'even': 480, 'perfect': 1042, 'appl': 65, 'loaf': 837, 'bread': 168, 'glass': 611, 'share': 1269, 'friend': 580, 'lover': 850, 'life': 818, 'blend': 147, 'tea': 1447, 'happen': 662, 'creat': 336, 'magic': 859, 'hint': 696, 'cranberri': 329, 'flower': 556, 'spice': 1350, 'choic': 253, 'spoon': 1356, 'exact': 488, 'desir': 386, 'packet': 1013, 'equal': 474, 'well': 1601, 'expect': 494, 'homemad': 702, 'browni': 183, 'cooki': 310, 'lemon': 810, 'deep': 371, 'red': 1160, 'color': 277, 'anyon': 56, 'yet': 1650, 'look': 843, 'herbal': 687, 'infus': 739, 'steep': 1376, 'orang': 994, 'peel': 1036, 'licoric': 815, 'cinnamon': 261, 'rose': 1208, 'slight': 1306, 'juic': 767, 'ive': 759, 'count': 320, 'impress': 726, 'review': 1192, 'chocol': 252, 'contain': 303, 'tasti': 1446, 'sleep': 1304, 'pill': 1054, 'night': 956, 'dinner': 404, 'treat': 1524, 'mouth': 930, 'half': 658, 'pound': 1085, 'english': 469, 'onion': 988, 'farm': 519, 'cheddar': 238, 'real': 1150, 'beer': 121, 'save': 1232, 'yesterday': 1649, 'hard': 664, 'offic': 979, 'lunch': 855, 'brought': 181, 'item': 758, 'home': 701, 'deliv': 378, 'safe': 1217, 'seal': 1241, 'milk': 903, 'hour': 709, 'forc': 562, 'today': 1495, 'due': 441, 'cut': 353, 'last': 795, 'wish': 1623, 'havent': 671, 'grown': 649, 'alon': 37, 'cat': 223, 'youll': 1653, 'shelf': 1271, 'pantri': 1021, 'door': 426, 'weve': 1605, 'eat': 452, 'everyth': 486, 'shape': 1268, 'outstand': 1003, 'intend': 747, 'mixtur': 917, 'decid': 370, 'grate': 634, 'pasta': 1030, 'dish': 414, 'fruit': 585, 'order': 995, 'least': 806, 'twice': 1538, 'start': 1370, 'five': 547, 'star': 1368, 'that': 1463, 'allow': 34, 'black': 145, 'earl': 444, 'grey': 640, 'bit': 142, 'aroma': 70, 'everywher': 487, 'simpli': 1291, 'heaven': 681, 'ice': 718, 'cream': 333, 'occas': 974, 'disappoint': 408, 'includ': 729, 'recip': 1158, 'serv': 1261, 'suggest': 1414, 'daughter': 362, 'vegan': 1564, 'bake': 100, 'powder': 1087, 'soy': 1341, 'son': 1331, 'happi': 663, 'separ': 1259, 'test': 1459, 'found': 569, 'salt': 1223, 'consist': 299, 'vet': 1570, 'lick': 814, 'healthi': 675, 'afford': 21, 'medicin': 887, 'book': 157, 'bodi': 152, 'mani': 870, 'talk': 1440, 'groceri': 645, 'health': 674, 'food': 560, 'weak': 1594, 'balanc': 101, 'took': 1503, 'week': 1598, 'ship': 1275, 'slow': 1307, 'pleasant': 1064, 'longer': 842, 'worth': 1634, 'edg': 456, 'morn': 926, 'meet': 889, 'stock': 1383, 'prepar': 1092, 'advertis': 17, 'abl': 0, 'shake': 1266, 'stir': 1382, 'thick': 1469, 'ad': 10, 'lime': 822, 'avail': 87, 'instead': 744, 'mine': 907, 'heat': 680, 'kick': 776, 'sinc': 1292, 'limit': 823, 'name': 942, 'drop': 440, 'spent': 1349, 'kept': 772, 'lead': 802, 'anoth': 53, 'bad': 98, 'forward': 568, 'internet': 750, 'elsewher': 464, 'cake': 198, 'recommend': 1159, 'odd': 976, 'minut': 911, 'later': 797, 'bud': 186, 'thin': 1471, 'pain': 1016, 'pour': 1086, 'man': 867, 'although': 43, 'hell': 684, 'past': 1029, 'despit': 388, 'previous': 1100, 'someon': 1326, 'complain': 288, 'sweet': 1430, 'truli': 1532, 'american': 48, 'varieti': 1562, 'old': 984, 'textur': 1460, 'chewi': 244, 'soft': 1319, 'sticki': 1380, 'less': 811, 'reason': 1153, 'rate': 1141, 'believ': 125, 'discontinu': 409, 'sever': 1265, 'appreci': 67, 'bought': 163, 'green': 638, 'overpow': 1007, 'expens': 495, 'indian': 733, 'chines': 250, 'california': 200, 'discov': 411, 'restaur': 1188, 'bacon': 97, 'salad': 1219, 'caus': 225, 'salti': 1224, 'fat': 521, 'bland': 146, 'honest': 703, 'wont': 1627, 'touch': 1508, 'huge': 713, 'mess': 894, 'leftov': 809, 'fish': 544, 'must': 940, 'there': 1464, 'sour': 1338, 'kid': 777, 'candi': 206, 'young': 1654, 'mother': 928, 'bag': 99, 'everyday': 484, 'theyd': 1466, 'gone': 618, 'yes': 1648, 'wrong': 1642, 'suffer': 1411, 'everi': 483, 'addict': 12, 'parent': 1023, 'interest': 749, 'children': 247, 'small': 1309, 'awhil': 94, 'crazi': 332, 'mom': 922, 'pure': 1125, 'sugar': 1412, 'wow': 1637, 'reaction': 1147, 'senseo': 1256, 'smooth': 1313, 'kona': 787, 'almost': 36, 'acid': 5, 'gave': 600, 'oatmeal': 972, 'chip': 251, 'bite': 143, 'hook': 705, 'glad': 610, 'ago': 27, 'popular': 1076, 'jelli': 763, 'dust': 443, 'satisfi': 1229, 'tooth': 1504, 'easi': 449, 'somewhat': 1329, 'cherri': 242, 'sold': 1322, 'pack': 1011, 'ton': 1501, 'offer': 978, 'sister': 1295, 'heart': 679, 'paid': 1015, 'note': 962, 'loos': 844, 'bubbl': 184, 'fed': 527, 'visit': 1574, 'new': 952, 'earli': 445, 'simpl': 1290, 'squar': 1362, 'somehow': 1325, 'quit': 1133, 'guarante': 650, 'relat': 1170, 'fri': 578, 'oil': 981, 'healthier': 676, 'lighter': 820, 'essenti': 477, 'dough': 429, 'tradit': 1517, 'fill': 534, 'set': 1264, 'blueberri': 150, 'mint': 910, 'middl': 899, 'present': 1093, 'anyth': 57, 'folk': 558, 'larger': 794, 'prefer': 1090, 'light': 819, 'larg': 793, 'batch': 111, 'effort': 459, 'okay': 983, 'plenti': 1066, 'carri': 218, 'turn': 1537, 'two': 1540, 'memori': 892, 'compliment': 292, 'cook': 309, 'free': 572, 'piec': 1053, 'fell': 530, 'bottom': 162, 'poor': 1073, 'ounc': 1000, 'dissolv': 417, 'beat': 115, 'second': 1245, 'high': 693, 'anymor': 55, 'soak': 1316, 'featur': 526, 'design': 385, 'add': 11, 'thai': 1461, 'asian': 75, 'noodl': 959, 'shrimp': 1284, 'fair': 510, 'overwhelm': 1009, 'wide': 1615, 'system': 1435, 'attract': 84, 'final': 537, 'whenev': 1610, 'garden': 597, 'instant': 743, 'drank': 432, 'youv': 1656, 'eaten': 453, 'grade': 626, 'tasteless': 1445, 'mind': 906, 'fan': 515, 'other': 998, 'style': 1400, 'read': 1148, 'figur': 533, 'meant': 883, 'per': 1041, 'certain': 230, 'result': 1189, 'overal': 1006, 'cost': 315, 'notic': 964, 'tight': 1486, 'instruct': 745, 'taken': 1439, 'prompt': 1114, 'done': 423, 'obvious': 973, 'hold': 698, 'remain': 1172, 'throw': 1483, 'cannot': 209, 'mention': 893, 'whatev': 1607, 'difficult': 402, 'wet': 1604, 'perhap': 1043, 'price': 1101, 'wast': 1589, 'proper': 1115, 'fact': 506, 'call': 201, 'might': 900, 'next': 954, 'yummi': 1659, 'christma': 259, 'sent': 1258, 'awesom': 93, 'respons': 1186, 'big': 136, 'hit': 697, 'continu': 306, 'fantast': 517, 'pet': 1046, 'liver': 835, 'owner': 1010, 'maintain': 862, 'suppli': 1422, 'worri': 1631, 'digest': 403, 'natur': 944, 'kitti': 783, 'may': 879, 'litter': 832, 'scoop': 1238, 'probabl': 1106, 'min': 905, 'stay': 1373, 'ball': 102, 'travel': 1523, 'gas': 599, 'thank': 1462, 'german': 603, 'given': 609, 'within': 1624, 'vomit': 1576, 'blood': 148, 'tear': 1448, 'throat': 1481, 'easili': 451, 'risk': 1201, 'thorough': 1475, 'chew': 243, 'lost': 847, 'mail': 860, 'charg': 234, 'shipment': 1276, 'gummi': 654, 'softer': 1320, 'end': 467, 'layer': 800, 'describ': 383, 'specif': 1347, 'fruiti': 586, 'surpris': 1427, 'retail': 1190, 'inch': 728, 'full': 589, 'amaz': 45, 'singl': 1293, 'target': 1442, 'possibl': 1080, 'finish': 541, 'train': 1518, 'consid': 297, 'fool': 561, 'left': 808, 'frustrat': 587, 'question': 1131, 'long': 841, 'kill': 778, 'factor': 507, 'effect': 458, 'fast': 520, 'remind': 1174, 'check': 237, 'rememb': 1173, 'idea': 719, 'lavazza': 799, 'ill': 721, 'reach': 1146, 'pretzel': 1098, 'trip': 1528, 'yellow': 1647, 'round': 1210, 'plain': 1058, 'move': 931, 'refriger': 1164, 'complaint': 289, 'photo': 1048, 'ran': 1136, 'lucki': 854, 'bother': 160, 'pepper': 1039, 'thrown': 1484, 'trust': 1533, 'unless': 1548, 'handl': 661, 'decent': 369, 'isnt': 754, 'sea': 1240, 'fit': 546, 'rather': 1142, 'mini': 909, 'cube': 348, 'dri': 434, 'quick': 1132, 'toy': 1513, 'liter': 831, 'busi': 192, 'rock': 1204, 'area': 68, 'direct': 406, 'went': 1602, 'immedi': 723, 'mayb': 880, 'puppi': 1123, 'death': 366, 'concentr': 293, 'close': 267, 'experienc': 497, 'pancak': 1020, 'mapl': 873, 'syrup': 1434, 'common': 284, 'hungri': 715, 'jack': 760, 'mile': 902, 'cheap': 235, 'complex': 291, 'white': 1613, 'nutti': 970, 'altern': 42, 'japanes': 761, 'caffein': 197, 'anywher': 60, 'leaf': 803, 'caramel': 212, 'partial': 1026, 'hazelnut': 672, 'subtl': 1407, 'late': 796, 'daili': 355, 'boy': 166, 'alreadi': 40, 'spend': 1348, 'fortun': 567, 'bar': 104, 'desk': 387, 'winner': 1620, 'artifici': 74, 'vanilla': 1560, 'wasnt': 1588, 'stuf': 1398, 'fall': 512, 'apart': 61, 'upset': 1555, 'hasnt': 669, 'floor': 554, 'step': 1377, 'italian': 757, 'gourmet': 624, 'stapl': 1367, 'san': 1227, 'miner': 908, 'refresh': 1163, 'shown': 1283, 'sweeten': 1431, 'soda': 1317, 'carbon': 215, 'similar': 1289, 'acquir': 6, 'sip': 1294, 'can': 204, 'wouldnt': 1636, 'number': 965, 'eventu': 481, 'none': 958, 'crumb': 341, 'various': 1563, 'meat': 885, 'import': 724, 'unlik': 1549, 'shelv': 1273, 'america': 47, 'imagin': 722, 'strawberri': 1391, 'gum': 653, 'begin': 123, 'intens': 748, 'firm': 542, 'melt': 890, 'tongu': 1502, 'frank': 571, 'flavour': 553, 'conveni': 308, 'choos': 256, 'drinker': 437, 'slice': 1305, 'insid': 742, 'shell': 1272, 'countri': 322, 'destroy': 390, 'low': 851, 'meal': 881, 'replac': 1178, 'crunch': 343, 'reciev': 1157, 'contact': 302, 'custom': 352, 'servic': 1262, 'pleas': 1063, 'peach': 1033, 'form': 565, 'four': 570, 'grape': 632, 'power': 1088, 'over': 1005, 'graini': 629, 'teeth': 1450, 'sensit': 1257, 'sugari': 1413, 'appeal': 63, 'claim': 263, 'except': 491, 'manag': 868, 'formula': 566, 'combin': 279, 'cereal': 229, 'situat': 1298, 'basic': 109, 'doctor': 419, 'state': 1372, 'improv': 727, 'child': 246, 'feed': 528, 'babi': 95, 'eye': 503, 'rice': 1193, 'stale': 1364, 'fiber': 532, 'protein': 1117, 'kashi': 770, 'arriv': 73, 'seller': 1253, 'fail': 508, 'cool': 311, 'goe': 615, 'crisp': 339, 'hope': 706, 'sale': 1220, 'weight': 1599, 'breakfast': 170, 'coat': 271, 'gram': 630, 'load': 836, 'vitamin': 1575, 'delic': 375, 'clear': 266, 'broth': 179, 'warm': 1585, 'dollar': 422, 'coupl': 323, 'die': 398, 'car': 211, 'girl': 607, 'unabl': 1543, 'blue': 149, 'gallon': 595, 'crystal': 347, 'third': 1474, 'closer': 268, 'pink': 1055, 'youd': 1652, 'carb': 213, 'crispi': 340, 'china': 249, 'holiday': 700, 'introduc': 752, 'told': 1498, 'outsid': 1002, 'needless': 948, 'soon': 1332, 'run': 1214, 'luck': 853, 'chanc': 232, 'request': 1180, 'inform': 738, 'exampl': 489, 'dissapoint': 416, 'rid': 1195, 'forget': 564, 'waffl': 1577, 'diet': 399, 'nutrit': 968, 'calori': 202, 'total': 1507, 'satur': 1230, 'cholesterol': 255, 'sodium': 1318, 'carbohydr': 214, 'dietari': 400, 'calcium': 199, 'iron': 753, 'base': 107, 'higher': 694, 'lower': 852, 'depend': 382, 'peanut': 1034, 'flour': 555, 'cane': 207, 'brown': 182, 'grain': 628, 'sesam': 1263, 'corn': 312, 'wheat': 1609, 'oat': 971, 'winter': 1621, 'seed': 1248, 'honey': 704, 'malt': 866, 'kernel': 773, 'root': 1207, 'roll': 1205, 'cocoa': 272, 'ingredi': 740, 'almond': 35, 'faint': 509, 'zero': 1660, 'cola': 275, 'pretti': 1097, 'bare': 105, 'drinkabl': 436, 'dress': 433, 'rare': 1139, 'term': 1456, 'resembl': 1184, 'crack': 327, 'substitut': 1406, 'benefit': 127, 'stevia': 1378, 'among': 49, 'econom': 455, 'research': 1183, 'adult': 16, 'increas': 730, 'diabet': 394, 'stomach': 1384, 'reduc': 1161, 'studi': 1397, 'promot': 1113, 'loss': 846, 'pressur': 1096, 'cold': 276, 'south': 1340, 'diseas': 412, 'crave': 331, 'lack': 791, 'skin': 1302, 'report': 1179, 'substanti': 1405, 'fda': 525, 'supplement': 1421, 'harm': 667, 'unit': 1547, 'smoke': 1312, 'tablespoon': 1437, 'bowl': 164, 'teaspoon': 1449, 'toast': 1494, 'extract': 501, 'measur': 884, 'comfort': 281, 'terrif': 1458, 'liquid': 828, 'basi': 108, 'highest': 695, 'consum': 301, 'throughout': 1482, 'titl': 1493, 'splenda': 1354, 'list': 829, 'bargain': 106, 'etc': 478, 'chang': 233, 'page': 1014, 'typic': 1542, 'aftertast': 24, 'head': 673, 'com': 278, 'readi': 1149, 'return': 1191, 'info': 737, 'brewer': 174, 'send': 1254, 'sampl': 1226, 'nut': 966, 'donut': 425, 'learn': 805, 'came': 203, 'gold': 616, 'member': 891, 'sprinkl': 1360, 'butter': 193, 'fudg': 588, 'section': 1246, 'counter': 321, 'asid': 76, 'upon': 1554, 'tree': 1525, 'saw': 1233, 'miracl': 912, 'transit': 1520, 'kitchen': 782, 'email': 465, 'broken': 178, 'prior': 1105, 'filler': 535, 'six': 1299, 'hate': 670, 'grill': 641, 'plant': 1060, 'show': 1282, 'damag': 357, 'jar': 762, 'hand': 659, 'spill': 1352, 'grab': 625, 'onto': 990, 'stuck': 1396, 'clump': 270, 'oven': 1004, 'fridg': 579, 'prevent': 1099, 'microwav': 898, 'lid': 816, 'web': 1595, 'site': 1297, 'kit': 781, 'pocket': 1068, 'wise': 1622, 'refus': 1166, 'straight': 1389, 'knew': 784, 'salmon': 1221, 'updat': 1553, 'success': 1408, 'odor': 977, 'wash': 1587, 'rins': 1198, 'spit': 1353, 'nose': 961, 'swallow': 1429, 'spot': 1357, 'stronger': 1395, 'darker': 360, 'otherwis': 999, 'true': 1530, 'serious': 1260, 'temperatur': 1452, 'fabul': 504, 'energi': 468, 'crumbl': 342, 'muffin': 935, 'trick': 1527, 'method': 897, 'hair': 657, 'crush': 345, 'sometim': 1328, 'leak': 804, 'chicken': 245, 'mold': 921, 'accept': 2, 'onlin': 989, 'flavorless': 552, 'flat': 550, 'grew': 639, 'tend': 1454, 'general': 601, 'aromat': 71, 'content': 305, 'control': 307, 'constant': 300, 'comment': 282, 'becam': 117, 'whether': 1611, 'oliv': 986, 'promis': 1112, 'soup': 1337, 'afternoon': 23, 'alot': 39, 'main': 861, 'rest': 1187, 'tin': 1489, 'tini': 1490, 'berri': 128, 'cute': 354, 'parti': 1025, 'earth': 447, 'usa': 1556, 'gotten': 623, 'bewar': 134, 'deliveri': 379, 'guy': 655, 'excess': 492, 'unpleas': 1551, 'disgust': 413, 'aw': 90, 'cracker': 328, 'organ': 996, 'absolut': 1, 'ginger': 606, 'chai': 231, 'nasti': 943, 'threw': 1479, 'yuck': 1657, 'plastic': 1061, 'occasion': 975, 'write': 1640, 'buyer': 195, 'granola': 631, 'stash': 1371, 'purs': 1127, 'appar': 62, 'buck': 185, 'club': 269, 'walnut': 1582, 'frozen': 583, 'yogurt': 1651, 'peppermint': 1040, 'averag': 88, 'carton': 220, 'citi': 262, 'thus': 1485, 'felt': 531, 'besid': 129, 'yum': 1658, 'wors': 1632, 'hydrogen': 717, 'tran': 1519, 'chemic': 241, 'websit': 1596, 'edibl': 457, 'walk': 1580, 'tub': 1534, 'empti': 466, 'lie': 817, 'werent': 1603, 'human': 714, 'forev': 563, 'admit': 15, 'rush': 1215, 'sparkl': 1344, 'realiz': 1151, 'mountain': 929, 'credit': 337, 'creamer': 334, 'sandwich': 1228, 'dip': 405, 'freez': 573, 'favor': 523, 'shes': 1274, 'afraid': 22, 'horribl': 707, 'rubber': 1212, 'bug': 187, 'beyond': 135, 'fix': 548, 'eas': 448, 'carrot': 219, 'veget': 1565, 'hear': 677, 'heard': 678, 'seen': 1250, 'choke': 254, 'quantiti': 1130, 'boil': 153, 'worst': 1633, 'line': 824, 'age': 26, 'known': 786, 'drain': 431, 'freezer': 574, 'twine': 1539, 'sudden': 1410, 'disappear': 407, 'spaghetti': 1343, 'gross': 646, 'manner': 871, 'potato': 1083, 'comparison': 287, 'suck': 1409, 'lipton': 827, 'bright': 175, 'sooth': 1333, 'penni': 1037, 'harder': 665, 'most': 927, 'follow': 559, 'advis': 19, 'jerki': 764, 'provid': 1118, 'medium': 888, 'robust': 1203, 'face': 505, 'ruin': 1213, 'fructos': 584, 'flake': 549, 'skip': 1303, 'drive': 439, 'cashew': 222, 'garlic': 598, 'process': 1108, 'attent': 83, 'alcohol': 31, 'raspberri': 1140, 'commerci': 283, 'manufactur': 872, 'steak': 1374, 'season': 1243, 'enhanc': 470, 'mistak': 915, 'stand': 1365, 'tabl': 1436, 'super': 1418, 'trader': 1516, 'joe': 766, 'bear': 114, 'ladi': 792, 'weird': 1600, 'speak': 1345, 'rise': 1200, 'uniqu': 1546, 'sad': 1216, 'trap': 1521, 'materi': 877, 'sorri': 1334, 'anytim': 58, 'ideal': 720, 'distinct': 418, 'banana': 103, 'pomegran': 1072, 'veggi': 1567, 'arent': 69, 'school': 1236, 'bulk': 188, 'toler': 1499, 'defin': 372, 'tuna': 1535, 'tender': 1455, 'egg': 460, 'dislik': 415, 'basket': 110, 'answer': 54, 'refund': 1165, 'began': 122, 'up': 1552, 'beef': 120, 'pork': 1077, 'bone': 155, 'affect': 20, 'concern': 294, 'opinion': 992, 'scent': 1235, 'link': 826, 'anni': 52, 'ten': 1453, 'degre': 374, 'chunk': 260, 'mushi': 938, 'respond': 1185, 'pricey': 1102, 'gluten': 612, 'golden': 617, 'ridicul': 1196, 'supplier': 1423, 'ahead': 29, 'raw': 1144, 'fanci': 516, 'pie': 1052, 'tart': 1443, 'grow': 648, 'condit': 295, 'match': 876, 'dens': 380, 'adjust': 14, 'vegetarian': 1566, 'superior': 1419, 'agre': 28, 'pan': 1019, 'spread': 1359, 'birthday': 140, 'trade': 1515, 'steam': 1375, 'cent': 227, 'mark': 874, 'coconut': 273, 'crunchi': 344, 'wed': 1597, 'accord': 3, 'troubl': 1529, 'awar': 91, 'danger': 358, 'brother': 180, 'hadnt': 656, 'spray': 1358, 'walmart': 1581, 'kibbl': 775, 'slowli': 1308, 'corner': 313, 'repeat': 1177, 'breath': 172, 'option': 993, 'lol': 840, 'dump': 442, 'front': 581, 'jump': 768, 'explain': 499, 'signific': 1288, 'anim': 51, 'fulli': 590, 'burnt': 191, 'nutriti': 969, 'wrote': 1643, 'consider': 298, 'vinegar': 1573, 'hole': 699, 'town': 1511, 'graham': 627, 'pea': 1032, 'herb': 686, 'chop': 257, 'regret': 1168, 'mac': 856, 'kraft': 788, 'medic': 886, 'mug': 936, 'squeez': 1363, 'intoler': 751, 'curri': 351, 'sun': 1416, 'whip': 1612, 'lbs': 801, 'raisin': 1135, 'pumpkin': 1122, 'haribo': 666, 'pud': 1119, 'dessert': 389, 'shame': 1267, 'cough': 317, 'multipl': 937, 'frost': 582, 'word': 1628, 'issu': 755, 'hes': 689, 'boost': 158, 'preserv': 1094, 'written': 1641, 'rough': 1209, 'current': 350, 'strength': 1392, 'canist': 208, 'moist': 919, 'allergi': 33, 'dairi': 356, 'somewher': 1330, 'allerg': 32, 'shouldnt': 1281, 'pamela': 1018, 'mill': 904, 'posit': 1079, 'rais': 1134, 'via': 1571, 'bill': 139, 'bigger': 137, 'initi': 741, 'eater': 454, 'costco': 316, 'smoothi': 1314, 'toddler': 1496, 'relax': 1171, 'grass': 633, 'rang': 1138, 'belli': 126, 'substanc': 1404, 'discount': 410, 'junk': 769, 'older': 985, 'creme': 338, 'period': 1044, 'develop': 393, 'frequent': 576, 'track': 1514, 'automat': 86, 'practic': 1089, 'wrapper': 1639, 'familiar': 514, 'post': 1081, 'mislead': 913, 'sam': 1225, 'tomato': 1500, 'tough': 1509, 'palat': 1017, 'program': 1111, 'support': 1424, 'seattl': 1244, 'hide': 692, 'overpr': 1008, 'kinda': 780, 'assum': 80, 'mocha': 918, 'bob': 151, 'greasi': 636, 'tip': 1491, 'grocer': 644, 'suspect': 1428, 'major': 863, 'understand': 1544, 'bed': 119, 'wild': 1617, 'soggi': 1321, 'expir': 498, 'refer': 1162, 'indic': 734, 'diagnos': 395, 'scienc': 1237, 'account': 4, 'celiac': 226, 'toxic': 1512, 'guest': 652, 'purpos': 1126, 'ined': 736, 'heavi': 682, 'attempt': 82, 'subscrib': 1402, 'generic': 602, 'bore': 159, 'picki': 1050, 'bold': 154, 'turkey': 1536, 'futur': 593, 'protect': 1116, 'pizza': 1056, 'crust': 346, 'summer': 1415, 'vendor': 1568, 'prime': 1103, 'dent': 381, 'intak': 746, 'center': 228, 'print': 1104, 'chili': 248, 'chef': 240, 'wake': 1579, 'fault': 522, 'rip': 1199, 'harsh': 668, 'fake': 511, 'gritti': 643, 'sprout': 1361, 'rave': 1143, 'yeah': 1644, 'strip': 1393, 'storag': 1386, 'short': 1279, 'gravi': 635, 'locat': 839, 'pecan': 1035, 'negat': 949, 'breast': 171, 'msg': 933, 'appli': 66, 'advic': 18, 'pouch': 1084, 'linger': 825, 'mushroom': 939, 'bonus': 156, 'mustard': 941, 'truffl': 1531, 'moistur': 920, 'cancel': 205, 'gooey': 620, 'gag': 594, 'coupon': 324, 'dozen': 430, 'pull': 1120, 'necessari': 946, 'phone': 1047, 'fishi': 545, 'nutrient': 967, 'reorder': 1176, 'bet': 131, 'confirm': 296, 'warehous': 1584, 'foil': 557, 'spoil': 1355, 'biscuit': 141, 'sunflow': 1417, 'vine': 1572, 'god': 614, 'timothi': 1488, 'oili': 982, 'shock': 1277, 'toward': 1510, 'poison': 1071, 'authent': 85, 'yeast': 1646, 'solut': 1324, 'agav': 25, 'household': 711, 'hey': 691, 'newman': 953, 'diarrhea': 396, 'whatsoev': 1608, 'googl': 621, 'activ': 8, 'messi': 895, 'biggest': 138, 'mango': 869, 'rancid': 1137, 'thicker': 1470, 'detect': 392, 'reseal': 1182, 'chose': 258, 'aspartam': 78, 'contamin': 304, 'lab': 789, 'keurig': 774, 'subscript': 1403, 'salsa': 1222, 'doubt': 428, 'listen': 830, 'metal': 896, 'regard': 1167, 'outrag': 1001, 'skeptic': 1301, 'wateri': 1592, 'earlier': 446, 'unopen': 1550, 'rawhid': 1145, 'eight': 461, 'behind': 124, 'non': 957, 'heck': 683, 'subject': 1401}"
     ]
    },
    {
     "name": "stdout",
     "output_type": "stream",
     "text": [
      "\n"
     ]
    }
   ],
   "source": [
    "#Bag of words\n",
    "#Applying Bag of words on train datapoint dataset 'x_train'\n",
    "vectorizer = CountVectorizer(min_df = 50) #defining our BOW model here. Here we are considering words which occur more than-\n",
    "#-50 times in our document.\n",
    "model = vectorizer.fit(x_train)#learning the internal parameters (here vocabulary) of text(i.e reviews) in x_train\n",
    "print(vectorizer.vocabulary_) #visulaizing the vocabulary"
   ]
  },
  {
   "cell_type": "code",
   "execution_count": 35,
   "metadata": {},
   "outputs": [],
   "source": [
    "train_bow = model.transform(x_train)#converting the internal parameters(i.e vocab) into vectors\n",
    "cv_bow = model.transform(x_cv)# using the same vocab of x_train I am transforming the text in x_cv into bow matrix-\n",
    "#- in order to maintain the same dimension of matrix as train_bow\n",
    "test_bow = model.transform(x_test)# using the same vocab of x_train I am transforming the text in x_test into bow matrix-\n",
    "#- in order to maintain the same dimension of matrix as train_bow"
   ]
  },
  {
   "cell_type": "code",
   "execution_count": 36,
   "metadata": {},
   "outputs": [],
   "source": [
    "#here we are creating a dataframe out of train_bow,cv_bow and test_bow\n",
    "train_bow_df = pd.DataFrame(train_bow.toarray(),columns = model.get_feature_names())\n",
    "cv_bow_df = pd.DataFrame(cv_bow.toarray(),columns = model.get_feature_names())\n",
    "test_bow_df = pd.DataFrame(test_bow.toarray(),columns = model.get_feature_names())"
   ]
  },
  {
   "cell_type": "code",
   "execution_count": 37,
   "metadata": {
    "scrolled": true
   },
   "outputs": [
    {
     "name": "stderr",
     "output_type": "stream",
     "text": [
      "C:\\Users\\nihar\\Anaconda3\\lib\\site-packages\\sklearn\\preprocessing\\data.py:645: DataConversionWarning: Data with input dtype int64 were all converted to float64 by StandardScaler.\n",
      "  return self.partial_fit(X, y)\n",
      "C:\\Users\\nihar\\Anaconda3\\lib\\site-packages\\sklearn\\base.py:464: DataConversionWarning: Data with input dtype int64 were all converted to float64 by StandardScaler.\n",
      "  return self.fit(X, **fit_params).transform(X)\n",
      "C:\\Users\\nihar\\Anaconda3\\lib\\site-packages\\sklearn\\preprocessing\\data.py:645: DataConversionWarning: Data with input dtype int64 were all converted to float64 by StandardScaler.\n",
      "  return self.partial_fit(X, y)\n",
      "C:\\Users\\nihar\\Anaconda3\\lib\\site-packages\\sklearn\\base.py:464: DataConversionWarning: Data with input dtype int64 were all converted to float64 by StandardScaler.\n",
      "  return self.fit(X, **fit_params).transform(X)\n",
      "C:\\Users\\nihar\\Anaconda3\\lib\\site-packages\\sklearn\\preprocessing\\data.py:645: DataConversionWarning: Data with input dtype int64 were all converted to float64 by StandardScaler.\n",
      "  return self.partial_fit(X, y)\n",
      "C:\\Users\\nihar\\Anaconda3\\lib\\site-packages\\sklearn\\base.py:464: DataConversionWarning: Data with input dtype int64 were all converted to float64 by StandardScaler.\n",
      "  return self.fit(X, **fit_params).transform(X)\n"
     ]
    }
   ],
   "source": [
    "#Here we are standardizing dataframes train_bow_df, cv_bow_df and test_bow_df\n",
    "standardized_train = StandardScaler().fit_transform(train_bow_df)\n",
    "standardized_cv = StandardScaler().fit_transform(cv_bow_df)\n",
    "standardized_test = StandardScaler().fit_transform(test_bow_df)"
   ]
  },
  {
   "cell_type": "code",
   "execution_count": 38,
   "metadata": {},
   "outputs": [
    {
     "data": {
      "text/plain": [
       "(20000, 1661)"
      ]
     },
     "execution_count": 38,
     "metadata": {},
     "output_type": "execute_result"
    }
   ],
   "source": [
    "standardized_train.shape"
   ]
  },
  {
   "cell_type": "markdown",
   "metadata": {},
   "source": [
    "## [2.1] Decision Trees on BOW"
   ]
  },
  {
   "cell_type": "code",
   "execution_count": 39,
   "metadata": {},
   "outputs": [],
   "source": [
    "#Here we are trying to find area under AUC score along with Confusion matrix for train dataset for various values of-\n",
    "#- C using Logistic Regression\n",
    "train_roc = []\n",
    "min_samples_split_train = []\n",
    "max_depth_train = []\n",
    "max_depth = [4,6,8,9,10,12,14,17]\n",
    "min_samples_split=[2,10,20,30,40,50] #min_samples_split=min no of samples that an internal node should have so that we can split it\n",
    "#For instance, if min_samples_split = 5, and there are 7 samples at an internal node, \n",
    "#then the split is allowed. But let's say the split results in two leaves, \n",
    "#one with 1 sample, and another with 6 samples. If min_samples_leaf = 2, \n",
    "#then the split won't be allowed (even if the internal node has 7 samples) because one of the leaves resulted\n",
    "#will have less then the minimum number of samples required to be at a leaf node.\n",
    "for i in max_depth:\n",
    "    for j in min_samples_split: \n",
    "        dt = DecisionTreeClassifier(max_depth = i,min_samples_split=j)\n",
    "        dt.fit(standardized_train,y_train)\n",
    "        pred = dt.predict(standardized_train)\n",
    "        train_roc.append(roc_auc_score(y_train, pred))#roc_auc_score calculates area under the roc curve \n",
    "        min_samples_split_train.append(j)\n",
    "        max_depth_train.append(i)"
   ]
  },
  {
   "cell_type": "code",
   "execution_count": 40,
   "metadata": {},
   "outputs": [],
   "source": [
    "#performing simple cross validation using Logistic Regression for various values of C. Our metrics are-\n",
    "#- area under auc curve and Confusion matrix\n",
    "cv_roc = []\n",
    "min_samples_split_cv = []\n",
    "max_depth_cv = []\n",
    "max_depth = [4,6,8,9,10,12,14,17]\n",
    "min_samples_split=[2,10,20,30,40,50]\n",
    "for i in max_depth:\n",
    "    for j in min_samples_split: \n",
    "        dt = DecisionTreeClassifier(max_depth = i,min_samples_split=j)\n",
    "        dt.fit(standardized_train,y_train)\n",
    "        pred = dt.predict(standardized_cv)\n",
    "        cv_roc.append(roc_auc_score(y_cv, pred))#roc_auc_score calculates area under the roc curve \n",
    "        min_samples_split_cv.append(j)\n",
    "        max_depth_cv.append(i)"
   ]
  },
  {
   "cell_type": "code",
   "execution_count": 41,
   "metadata": {},
   "outputs": [
    {
     "data": {
      "image/png": "[encoded data removed]",
      "text/plain": [
       "<Figure size 432x288 with 2 Axes>"
      ]
     },
     "metadata": {
      "needs_background": "light"
     },
     "output_type": "display_data"
    }
   ],
   "source": [
    "train_df = pd.DataFrame()\n",
    "train_df['min_samples_split'] = min_samples_split_train\n",
    "train_df['max_depth'] = max_depth_train\n",
    "train_df['train_roc'] = train_roc\n",
    "train_df = train_df.pivot(\"min_samples_split\", \"max_depth\", \"train_roc\")\n",
    "ax = sns.heatmap(train_df, annot=True)"
   ]
  },
  {
   "cell_type": "code",
   "execution_count": 43,
   "metadata": {},
   "outputs": [
    {
     "data": {
      "image/png": "[encoded data removed]",
      "text/plain": [
       "<Figure size 432x288 with 2 Axes>"
      ]
     },
     "metadata": {
      "needs_background": "light"
     },
     "output_type": "display_data"
    }
   ],
   "source": [
    "cv_df = pd.DataFrame()\n",
    "cv_df['min_samples_split'] = min_samples_split_cv\n",
    "cv_df['max_depth'] = max_depth_cv\n",
    "cv_df['cv_roc'] = cv_roc\n",
    "cv_df = cv_df.pivot(\"min_samples_split\", \"max_depth\", \"cv_roc\")\n",
    "ax = sns.heatmap(train_df, annot=True)"
   ]
  },
  {
   "cell_type": "markdown",
   "metadata": {},
   "source": [
    "## Observation:\n",
    "<pre>As we can see from above that we are getting maximum value of AUC for C = 0.01, therefore we will choose that value of C as our hyperparameter value.</pre>"
   ]
  },
  {
   "cell_type": "code",
   "execution_count": 22,
   "metadata": {},
   "outputs": [
    {
     "name": "stdout",
     "output_type": "stream",
     "text": [
      "For C = 0.01 the area under AUC curve is = 0.8656845797683996\n",
      "\n"
     ]
    }
   ],
   "source": [
    "dt = DecisionTreeClassifier(max_depth = 50,min_samples_split=60)\n",
    "dt.fit(standardized_train,y_train)\n",
    "pred = dt.predict(standardized_test)\n",
    "print('\\nFor max_depth = {0} and min_samples_split = {1}, the area under AUC curve is = {2}'.format(50,60,roc_auc_score(y_test, pred)))"
   ]
  },
  {
   "cell_type": "code",
   "execution_count": 23,
   "metadata": {},
   "outputs": [
    {
     "data": {
      "image/png": "[encoded data removed]",
      "text/plain": [
       "<Figure size 432x288 with 2 Axes>"
      ]
     },
     "metadata": {},
     "output_type": "display_data"
    },
    {
     "name": "stdout",
     "output_type": "stream",
     "text": [
      "_____________________________________________________________________________________________________\n",
      "\n",
      "For C = 0.01, the TPR = 89.92419456727733, TNR = 83.21272138640259, FPR = 16.787278613597408, FNR = 10.075805432722678\n"
     ]
    }
   ],
   "source": [
    "#plotting our confusion matrix\n",
    "co_mt = confusion_matrix(y_test,pred)\n",
    "class_label = ['negative', 'positive']\n",
    "df_conf_matrix = pd.DataFrame(co_mt, index=class_label, columns=class_label)\n",
    "sns.heatmap(df_conf_matrix, annot=True, fmt='d')\n",
    "plt.title(\"Confusion Matrix\")\n",
    "plt.xlabel(\"Predicted\")\n",
    "plt.ylabel(\"Actual\")\n",
    "plt.show()\n",
    "print(\"_\" * 101)\n",
    "TNR = (co_mt[0][0]/(co_mt[0][0]+co_mt[0][1]))*100# calculating TNR, TPR, FPR, FNR\n",
    "FPR = (co_mt[0][1]/(co_mt[0][0]+co_mt[0][1]))*100\n",
    "TPR = (co_mt[1][1]/(co_mt[1][0]+co_mt[1][1]))*100\n",
    "FNR = (co_mt[1][0]/(co_mt[1][0]+co_mt[1][1]))*100\n",
    "print('\\nFor max_depth = {0} and n_estimators = {1}, the TPR = {2}, TNR = {3}, FPR = {4}, FNR = {5}'.format(50,60,TPR,TNR,FPR,FNR))"
   ]
  },
  {
   "cell_type": "code",
   "execution_count": 24,
   "metadata": {},
   "outputs": [
    {
     "data": {
      "image/png": "[encoded data removed]",
      "text/plain": [
       "<Figure size 432x288 with 1 Axes>"
      ]
     },
     "metadata": {},
     "output_type": "display_data"
    }
   ],
   "source": [
    "#plotting ROC curve for y_test\n",
    "fpr, tpr, threshold = metrics.roc_curve(y_test, pred)#roc_curve returns true positive rates and false positive rates for y-test\n",
    "roc_auc = metrics.auc(fpr, tpr)#computes area under roc_curve using trapezoidal rule or in other words we can say using inte-\n",
    "#-gration\n",
    "plt.title('Receiver Operating Characteristic')\n",
    "plt.plot(fpr, tpr, 'b', label = 'AUC = %0.2f' % roc_auc)\n",
    "plt.legend(loc = 'lower right')\n",
    "plt.plot([0, 1], [0, 1],'r--')\n",
    "plt.xlim([0, 1])#limiting values of x-axis between 0 and 1\n",
    "plt.ylim([0, 1])#limiting values of y-axis between 0 and 1\n",
    "plt.ylabel('True Positive Rate')\n",
    "plt.xlabel('False Positive Rate')\n",
    "plt.show()"
   ]
  },
  {
   "cell_type": "code",
   "execution_count": null,
   "metadata": {},
   "outputs": [],
   "source": [
    "#Printing top 20 features\n",
    "imp = dt.feature_importances_\n",
    "indices = np.argsort(imp)[::-1][:20]\n",
    "names = np.array(model.get_feature_names())\n",
    "print('Words','\\t','\\t','\\t','Weights')\n",
    "print('_'*50)\n",
    "for i in indices:\n",
    "    print(names[i],'\\t','\\t','\\t',imp[i])"
   ]
  },
  {
   "cell_type": "code",
   "execution_count": null,
   "metadata": {},
   "outputs": [],
   "source": [
    "##Graphviz"
   ]
  },
  {
   "cell_type": "markdown",
   "metadata": {},
   "source": [
    "## 3. TFIDF"
   ]
  },
  {
   "cell_type": "code",
   "execution_count": 32,
   "metadata": {},
   "outputs": [
    {
     "name": "stdout",
     "output_type": "stream",
     "text": [
      "{'alway': 44, 'enjoy': 471, 'movi': 932, 'funni': 592, 'didnt': 397, 'hesit': 690, 'pick': 1049, 'guess': 651, 'market': 875, 'plan': 1059, 'make': 864, 'famili': 513, 'someth': 1327, 'strong': 1394, 'usual': 1558, 'version': 1569, 'warn': 1586, 'want': 1583, 'avoid': 89, 'bring': 176, 'often': 980, 'come': 280, 'like': 821, 'find': 538, 'one': 987, 'snack': 1315, 'popcorn': 1075, 'favorit': 524, 'part': 1024, 'room': 1206, 'classic': 264, 'moment': 923, 'miss': 914, 'couldnt': 319, 'stop': 1385, 'great': 637, 'keep': 771, 'cant': 210, 'watch': 1590, 'time': 1487, 'ever': 482, 'made': 858, 'mix': 916, 'strang': 1390, 'stori': 1388, 'along': 38, 'thing': 1472, 'world': 1630, 'live': 834, 'dead': 364, 'recent': 1156, 'wait': 1578, 'hous': 710, 'year': 1645, 'peopl': 1038, 'tri': 1526, 'break': 169, 'cover': 326, 'take': 1438, 'place': 1057, 'excel': 490, 'job': 765, 'see': 1247, 'use': 1557, 'machin': 857, 'purchas': 1124, 'amazon': 46, 'produc': 1109, 'delici': 376, 'latt': 798, 'pod': 1069, 'smell': 1311, 'regular': 1169, 'decaf': 368, 'open': 991, 'incred': 731, 'dark': 359, 'rich': 1194, 'roast': 1202, 'itali': 756, 'good': 619, 'sign': 1287, 'also': 41, 'handi': 660, 'paper': 1022, 'remov': 1175, 'without': 1625, 'burn': 190, 'finger': 540, 'compar': 286, 'starbuck': 1369, 'espresso': 476, 'individu': 735, 'wrap': 1638, 'lot': 848, 'space': 1342, 'sure': 1426, 'know': 785, 'your': 1655, 'go': 613, 'store': 1387, 'box': 165, 'best': 130, 'date': 361, 'case': 221, 'month': 925, 'beauti': 116, 'first': 543, 'three': 1478, 'plus': 1067, 'bunch': 189, 'stuff': 1399, 'littl': 833, 'cardboard': 216, 'origin': 997, 'sort': 1335, 'thrill': 1480, 'far': 518, 'excit': 493, 'got': 622, 'caught': 224, 'unfortun': 1545, 'qualiti': 1129, 'pop': 1074, 'broke': 177, 'though': 1476, 'toss': 1506, 'fun': 591, 'dont': 424, 'get': 604, 'let': 812, 'person': 1045, 'said': 1218, 'feel': 529, 'need': 947, 'tell': 1451, 'detail': 391, 'terribl': 1457, 'packag': 1012, 'fine': 539, 'noth': 963, 'work': 1629, 'pictur': 1051, 'sound': 1336, 'experi': 496, 'howev': 712, 'complet': 290, 'trash': 1522, 'extra': 500, 'extrem': 502, 'play': 1062, 'actual': 9, 'select': 1251, 'what': 1606, 'problem': 1107, 'recal': 1154, 'top': 1505, 'think': 1473, 'could': 318, 'better': 132, 'garbag': 596, 'sick': 1285, 'tire': 1492, 'compani': 285, 'away': 92, 'sell': 1252, 'doubl': 427, 'side': 1286, 'stick': 1379, 'whole': 1614, 'switch': 1433, 'scratch': 1239, 'theyr': 1467, 'put': 1128, 'thought': 1477, 'crap': 330, 'togeth': 1497, 'clean': 265, 'product': 1110, 'standard': 1366, 'cheaper': 236, 'pay': 1031, 'premium': 1091, 'buy': 194, 'easier': 450, 'addit': 13, 'pump': 1121, 'enough': 472, 'air': 30, 'wine': 1619, 'bottl': 161, 'leav': 807, 'much': 934, 'point': 1070, 'drink': 435, 'french': 575, 'appear': 64, 'label': 790, 'normal': 960, 'would': 1635, 'descript': 384, 'say': 1234, 'shot': 1280, 'brew': 173, 'coffe': 274, 'press': 1095, 'either': 462, 'here': 688, 'requir': 1181, 'grind': 642, 'cours': 325, 'ground': 647, 'pass': 1028, 'filter': 536, 'cup': 349, 'cafe': 196, 'entir': 473, 'differ': 401, 'beverag': 133, 'therefor': 1465, 'imposs': 725, 'kind': 779, 'maker': 865, 'size': 1300, 'bean': 113, 'tast': 1444, 'particular': 1027, 'level': 813, 'vari': 1561, 'way': 1593, 'seem': 1249, 'care': 217, 'still': 1381, 'supermarket': 1420, 'special': 1346, 'sourc': 1339, 'chees': 239, 'hot': 708, 'dog': 421, 'anyway': 59, 'realli': 1152, 'lose': 845, 'flavor': 551, 'around': 72, 'drip': 438, 'els': 463, 'pot': 1082, 'nice': 955, 'deal': 365, 'search': 1242, 'money': 924, 'will': 1618, 'local': 838, 'shop': 1278, 'give': 608, 'fresh': 577, 'matter': 878, 'near': 945, 'theyv': 1468, 'sit': 1296, 'ask': 77, 'correct': 314, 'amount': 50, 'right': 1197, 'bitter': 144, 'especi': 475, 'mean': 882, 'water': 1591, 'definit': 373, 'pleasur': 1065, 'suppos': 1425, 'help': 685, 'solid': 1323, 'valu': 1559, 'sens': 1255, 'delight': 377, 'sauc': 1231, 'inde': 732, 'spici': 1351, 'brand': 167, 'mild': 901, 'wonder': 1626, 'rub': 1211, 'husband': 716, 'doesnt': 420, 'sweeter': 1432, 'type': 1541, 'bbq': 112, 'love': 849, 'everyon': 485, 'receiv': 1155, 'assort': 79, 'gift': 605, 'decad': 367, 'creami': 335, 'back': 96, 'day': 363, 'across': 7, 'europ': 479, 'neither': 950, 'wife': 1616, 'sharp': 1270, 'tangi': 1441, 'ate': 81, 'smaller': 1310, 'portion': 1078, 'never': 951, 'becom': 118, 'even': 480, 'perfect': 1042, 'appl': 65, 'loaf': 837, 'bread': 168, 'glass': 611, 'share': 1269, 'friend': 580, 'lover': 850, 'life': 818, 'blend': 147, 'tea': 1447, 'happen': 662, 'creat': 336, 'magic': 859, 'hint': 696, 'cranberri': 329, 'flower': 556, 'spice': 1350, 'choic': 253, 'spoon': 1356, 'exact': 488, 'desir': 386, 'packet': 1013, 'equal': 474, 'well': 1601, 'expect': 494, 'homemad': 702, 'browni': 183, 'cooki': 310, 'lemon': 810, 'deep': 371, 'red': 1160, 'color': 277, 'anyon': 56, 'yet': 1650, 'look': 843, 'herbal': 687, 'infus': 739, 'steep': 1376, 'orang': 994, 'peel': 1036, 'licoric': 815, 'cinnamon': 261, 'rose': 1208, 'slight': 1306, 'juic': 767, 'ive': 759, 'count': 320, 'impress': 726, 'review': 1192, 'chocol': 252, 'contain': 303, 'tasti': 1446, 'sleep': 1304, 'pill': 1054, 'night': 956, 'dinner': 404, 'treat': 1524, 'mouth': 930, 'half': 658, 'pound': 1085, 'english': 469, 'onion': 988, 'farm': 519, 'cheddar': 238, 'real': 1150, 'beer': 121, 'save': 1232, 'yesterday': 1649, 'hard': 664, 'offic': 979, 'lunch': 855, 'brought': 181, 'item': 758, 'home': 701, 'deliv': 378, 'safe': 1217, 'seal': 1241, 'milk': 903, 'hour': 709, 'forc': 562, 'today': 1495, 'due': 441, 'cut': 353, 'last': 795, 'wish': 1623, 'havent': 671, 'grown': 649, 'alon': 37, 'cat': 223, 'youll': 1653, 'shelf': 1271, 'pantri': 1021, 'door': 426, 'weve': 1605, 'eat': 452, 'everyth': 486, 'shape': 1268, 'outstand': 1003, 'intend': 747, 'mixtur': 917, 'decid': 370, 'grate': 634, 'pasta': 1030, 'dish': 414, 'fruit': 585, 'order': 995, 'least': 806, 'twice': 1538, 'start': 1370, 'five': 547, 'star': 1368, 'that': 1463, 'allow': 34, 'black': 145, 'earl': 444, 'grey': 640, 'bit': 142, 'aroma': 70, 'everywher': 487, 'simpli': 1291, 'heaven': 681, 'ice': 718, 'cream': 333, 'occas': 974, 'disappoint': 408, 'includ': 729, 'recip': 1158, 'serv': 1261, 'suggest': 1414, 'daughter': 362, 'vegan': 1564, 'bake': 100, 'powder': 1087, 'soy': 1341, 'son': 1331, 'happi': 663, 'separ': 1259, 'test': 1459, 'found': 569, 'salt': 1223, 'consist': 299, 'vet': 1570, 'lick': 814, 'healthi': 675, 'afford': 21, 'medicin': 887, 'book': 157, 'bodi': 152, 'mani': 870, 'talk': 1440, 'groceri': 645, 'health': 674, 'food': 560, 'weak': 1594, 'balanc': 101, 'took': 1503, 'week': 1598, 'ship': 1275, 'slow': 1307, 'pleasant': 1064, 'longer': 842, 'worth': 1634, 'edg': 456, 'morn': 926, 'meet': 889, 'stock': 1383, 'prepar': 1092, 'advertis': 17, 'abl': 0, 'shake': 1266, 'stir': 1382, 'thick': 1469, 'ad': 10, 'lime': 822, 'avail': 87, 'instead': 744, 'mine': 907, 'heat': 680, 'kick': 776, 'sinc': 1292, 'limit': 823, 'name': 942, 'drop': 440, 'spent': 1349, 'kept': 772, 'lead': 802, 'anoth': 53, 'bad': 98, 'forward': 568, 'internet': 750, 'elsewher': 464, 'cake': 198, 'recommend': 1159, 'odd': 976, 'minut': 911, 'later': 797, 'bud': 186, 'thin': 1471, 'pain': 1016, 'pour': 1086, 'man': 867, 'although': 43, 'hell': 684, 'past': 1029, 'despit': 388, 'previous': 1100, 'someon': 1326, 'complain': 288, 'sweet': 1430, 'truli': 1532, 'american': 48, 'varieti': 1562, 'old': 984, 'textur': 1460, 'chewi': 244, 'soft': 1319, 'sticki': 1380, 'less': 811, 'reason': 1153, 'rate': 1141, 'believ': 125, 'discontinu': 409, 'sever': 1265, 'appreci': 67, 'bought': 163, 'green': 638, 'overpow': 1007, 'expens': 495, 'indian': 733, 'chines': 250, 'california': 200, 'discov': 411, 'restaur': 1188, 'bacon': 97, 'salad': 1219, 'caus': 225, 'salti': 1224, 'fat': 521, 'bland': 146, 'honest': 703, 'wont': 1627, 'touch': 1508, 'huge': 713, 'mess': 894, 'leftov': 809, 'fish': 544, 'must': 940, 'there': 1464, 'sour': 1338, 'kid': 777, 'candi': 206, 'young': 1654, 'mother': 928, 'bag': 99, 'everyday': 484, 'theyd': 1466, 'gone': 618, 'yes': 1648, 'wrong': 1642, 'suffer': 1411, 'everi': 483, 'addict': 12, 'parent': 1023, 'interest': 749, 'children': 247, 'small': 1309, 'awhil': 94, 'crazi': 332, 'mom': 922, 'pure': 1125, 'sugar': 1412, 'wow': 1637, 'reaction': 1147, 'senseo': 1256, 'smooth': 1313, 'kona': 787, 'almost': 36, 'acid': 5, 'gave': 600, 'oatmeal': 972, 'chip': 251, 'bite': 143, 'hook': 705, 'glad': 610, 'ago': 27, 'popular': 1076, 'jelli': 763, 'dust': 443, 'satisfi': 1229, 'tooth': 1504, 'easi': 449, 'somewhat': 1329, 'cherri': 242, 'sold': 1322, 'pack': 1011, 'ton': 1501, 'offer': 978, 'sister': 1295, 'heart': 679, 'paid': 1015, 'note': 962, 'loos': 844, 'bubbl': 184, 'fed': 527, 'visit': 1574, 'new': 952, 'earli': 445, 'simpl': 1290, 'squar': 1362, 'somehow': 1325, 'quit': 1133, 'guarante': 650, 'relat': 1170, 'fri': 578, 'oil': 981, 'healthier': 676, 'lighter': 820, 'essenti': 477, 'dough': 429, 'tradit': 1517, 'fill': 534, 'set': 1264, 'blueberri': 150, 'mint': 910, 'middl': 899, 'present': 1093, 'anyth': 57, 'folk': 558, 'larger': 794, 'prefer': 1090, 'light': 819, 'larg': 793, 'batch': 111, 'effort': 459, 'okay': 983, 'plenti': 1066, 'carri': 218, 'turn': 1537, 'two': 1540, 'memori': 892, 'compliment': 292, 'cook': 309, 'free': 572, 'piec': 1053, 'fell': 530, 'bottom': 162, 'poor': 1073, 'ounc': 1000, 'dissolv': 417, 'beat': 115, 'second': 1245, 'high': 693, 'anymor': 55, 'soak': 1316, 'featur': 526, 'design': 385, 'add': 11, 'thai': 1461, 'asian': 75, 'noodl': 959, 'shrimp': 1284, 'fair': 510, 'overwhelm': 1009, 'wide': 1615, 'system': 1435, 'attract': 84, 'final': 537, 'whenev': 1610, 'garden': 597, 'instant': 743, 'drank': 432, 'youv': 1656, 'eaten': 453, 'grade': 626, 'tasteless': 1445, 'mind': 906, 'fan': 515, 'other': 998, 'style': 1400, 'read': 1148, 'figur': 533, 'meant': 883, 'per': 1041, 'certain': 230, 'result': 1189, 'overal': 1006, 'cost': 315, 'notic': 964, 'tight': 1486, 'instruct': 745, 'taken': 1439, 'prompt': 1114, 'done': 423, 'obvious': 973, 'hold': 698, 'remain': 1172, 'throw': 1483, 'cannot': 209, 'mention': 893, 'whatev': 1607, 'difficult': 402, 'wet': 1604, 'perhap': 1043, 'price': 1101, 'wast': 1589, 'proper': 1115, 'fact': 506, 'call': 201, 'might': 900, 'next': 954, 'yummi': 1659, 'christma': 259, 'sent': 1258, 'awesom': 93, 'respons': 1186, 'big': 136, 'hit': 697, 'continu': 306, 'fantast': 517, 'pet': 1046, 'liver': 835, 'owner': 1010, 'maintain': 862, 'suppli': 1422, 'worri': 1631, 'digest': 403, 'natur': 944, 'kitti': 783, 'may': 879, 'litter': 832, 'scoop': 1238, 'probabl': 1106, 'min': 905, 'stay': 1373, 'ball': 102, 'travel': 1523, 'gas': 599, 'thank': 1462, 'german': 603, 'given': 609, 'within': 1624, 'vomit': 1576, 'blood': 148, 'tear': 1448, 'throat': 1481, 'easili': 451, 'risk': 1201, 'thorough': 1475, 'chew': 243, 'lost': 847, 'mail': 860, 'charg': 234, 'shipment': 1276, 'gummi': 654, 'softer': 1320, 'end': 467, 'layer': 800, 'describ': 383, 'specif': 1347, 'fruiti': 586, 'surpris': 1427, 'retail': 1190, 'inch': 728, 'full': 589, 'amaz': 45, 'singl': 1293, 'target': 1442, 'possibl': 1080, 'finish': 541, 'train': 1518, 'consid': 297, 'fool': 561, 'left': 808, 'frustrat': 587, 'question': 1131, 'long': 841, 'kill': 778, 'factor': 507, 'effect': 458, 'fast': 520, 'remind': 1174, 'check': 237, 'rememb': 1173, 'idea': 719, 'lavazza': 799, 'ill': 721, 'reach': 1146, 'pretzel': 1098, 'trip': 1528, 'yellow': 1647, 'round': 1210, 'plain': 1058, 'move': 931, 'refriger': 1164, 'complaint': 289, 'photo': 1048, 'ran': 1136, 'lucki': 854, 'bother': 160, 'pepper': 1039, 'thrown': 1484, 'trust': 1533, 'unless': 1548, 'handl': 661, 'decent': 369, 'isnt': 754, 'sea': 1240, 'fit': 546, 'rather': 1142, 'mini': 909, 'cube': 348, 'dri': 434, 'quick': 1132, 'toy': 1513, 'liter': 831, 'busi': 192, 'rock': 1204, 'area': 68, 'direct': 406, 'went': 1602, 'immedi': 723, 'mayb': 880, 'puppi': 1123, 'death': 366, 'concentr': 293, 'close': 267, 'experienc': 497, 'pancak': 1020, 'mapl': 873, 'syrup': 1434, 'common': 284, 'hungri': 715, 'jack': 760, 'mile': 902, 'cheap': 235, 'complex': 291, 'white': 1613, 'nutti': 970, 'altern': 42, 'japanes': 761, 'caffein': 197, 'anywher': 60, 'leaf': 803, 'caramel': 212, 'partial': 1026, 'hazelnut': 672, 'subtl': 1407, 'late': 796, 'daili': 355, 'boy': 166, 'alreadi': 40, 'spend': 1348, 'fortun': 567, 'bar': 104, 'desk': 387, 'winner': 1620, 'artifici': 74, 'vanilla': 1560, 'wasnt': 1588, 'stuf': 1398, 'fall': 512, 'apart': 61, 'upset': 1555, 'hasnt': 669, 'floor': 554, 'step': 1377, 'italian': 757, 'gourmet': 624, 'stapl': 1367, 'san': 1227, 'miner': 908, 'refresh': 1163, 'shown': 1283, 'sweeten': 1431, 'soda': 1317, 'carbon': 215, 'similar': 1289, 'acquir': 6, 'sip': 1294, 'can': 204, 'wouldnt': 1636, 'number': 965, 'eventu': 481, 'none': 958, 'crumb': 341, 'various': 1563, 'meat': 885, 'import': 724, 'unlik': 1549, 'shelv': 1273, 'america': 47, 'imagin': 722, 'strawberri': 1391, 'gum': 653, 'begin': 123, 'intens': 748, 'firm': 542, 'melt': 890, 'tongu': 1502, 'frank': 571, 'flavour': 553, 'conveni': 308, 'choos': 256, 'drinker': 437, 'slice': 1305, 'insid': 742, 'shell': 1272, 'countri': 322, 'destroy': 390, 'low': 851, 'meal': 881, 'replac': 1178, 'crunch': 343, 'reciev': 1157, 'contact': 302, 'custom': 352, 'servic': 1262, 'pleas': 1063, 'peach': 1033, 'form': 565, 'four': 570, 'grape': 632, 'power': 1088, 'over': 1005, 'graini': 629, 'teeth': 1450, 'sensit': 1257, 'sugari': 1413, 'appeal': 63, 'claim': 263, 'except': 491, 'manag': 868, 'formula': 566, 'combin': 279, 'cereal': 229, 'situat': 1298, 'basic': 109, 'doctor': 419, 'state': 1372, 'improv': 727, 'child': 246, 'feed': 528, 'babi': 95, 'eye': 503, 'rice': 1193, 'stale': 1364, 'fiber': 532, 'protein': 1117, 'kashi': 770, 'arriv': 73, 'seller': 1253, 'fail': 508, 'cool': 311, 'goe': 615, 'crisp': 339, 'hope': 706, 'sale': 1220, 'weight': 1599, 'breakfast': 170, 'coat': 271, 'gram': 630, 'load': 836, 'vitamin': 1575, 'delic': 375, 'clear': 266, 'broth': 179, 'warm': 1585, 'dollar': 422, 'coupl': 323, 'die': 398, 'car': 211, 'girl': 607, 'unabl': 1543, 'blue': 149, 'gallon': 595, 'crystal': 347, 'third': 1474, 'closer': 268, 'pink': 1055, 'youd': 1652, 'carb': 213, 'crispi': 340, 'china': 249, 'holiday': 700, 'introduc': 752, 'told': 1498, 'outsid': 1002, 'needless': 948, 'soon': 1332, 'run': 1214, 'luck': 853, 'chanc': 232, 'request': 1180, 'inform': 738, 'exampl': 489, 'dissapoint': 416, 'rid': 1195, 'forget': 564, 'waffl': 1577, 'diet': 399, 'nutrit': 968, 'calori': 202, 'total': 1507, 'satur': 1230, 'cholesterol': 255, 'sodium': 1318, 'carbohydr': 214, 'dietari': 400, 'calcium': 199, 'iron': 753, 'base': 107, 'higher': 694, 'lower': 852, 'depend': 382, 'peanut': 1034, 'flour': 555, 'cane': 207, 'brown': 182, 'grain': 628, 'sesam': 1263, 'corn': 312, 'wheat': 1609, 'oat': 971, 'winter': 1621, 'seed': 1248, 'honey': 704, 'malt': 866, 'kernel': 773, 'root': 1207, 'roll': 1205, 'cocoa': 272, 'ingredi': 740, 'almond': 35, 'faint': 509, 'zero': 1660, 'cola': 275, 'pretti': 1097, 'bare': 105, 'drinkabl': 436, 'dress': 433, 'rare': 1139, 'term': 1456, 'resembl': 1184, 'crack': 327, 'substitut': 1406, 'benefit': 127, 'stevia': 1378, 'among': 49, 'econom': 455, 'research': 1183, 'adult': 16, 'increas': 730, 'diabet': 394, 'stomach': 1384, 'reduc': 1161, 'studi': 1397, 'promot': 1113, 'loss': 846, 'pressur': 1096, 'cold': 276, 'south': 1340, 'diseas': 412, 'crave': 331, 'lack': 791, 'skin': 1302, 'report': 1179, 'substanti': 1405, 'fda': 525, 'supplement': 1421, 'harm': 667, 'unit': 1547, 'smoke': 1312, 'tablespoon': 1437, 'bowl': 164, 'teaspoon': 1449, 'toast': 1494, 'extract': 501, 'measur': 884, 'comfort': 281, 'terrif': 1458, 'liquid': 828, 'basi': 108, 'highest': 695, 'consum': 301, 'throughout': 1482, 'titl': 1493, 'splenda': 1354, 'list': 829, 'bargain': 106, 'etc': 478, 'chang': 233, 'page': 1014, 'typic': 1542, 'aftertast': 24, 'head': 673, 'com': 278, 'readi': 1149, 'return': 1191, 'info': 737, 'brewer': 174, 'send': 1254, 'sampl': 1226, 'nut': 966, 'donut': 425, 'learn': 805, 'came': 203, 'gold': 616, 'member': 891, 'sprinkl': 1360, 'butter': 193, 'fudg': 588, 'section': 1246, 'counter': 321, 'asid': 76, 'upon': 1554, 'tree': 1525, 'saw': 1233, 'miracl': 912, 'transit': 1520, 'kitchen': 782, 'email': 465, 'broken': 178, 'prior': 1105, 'filler': 535, 'six': 1299, 'hate': 670, 'grill': 641, 'plant': 1060, 'show': 1282, 'damag': 357, 'jar': 762, 'hand': 659, 'spill': 1352, 'grab': 625, 'onto': 990, 'stuck': 1396, 'clump': 270, 'oven': 1004, 'fridg': 579, 'prevent': 1099, 'microwav': 898, 'lid': 816, 'web': 1595, 'site': 1297, 'kit': 781, 'pocket': 1068, 'wise': 1622, 'refus': 1166, 'straight': 1389, 'knew': 784, 'salmon': 1221, 'updat': 1553, 'success': 1408, 'odor': 977, 'wash': 1587, 'rins': 1198, 'spit': 1353, 'nose': 961, 'swallow': 1429, 'spot': 1357, 'stronger': 1395, 'darker': 360, 'otherwis': 999, 'true': 1530, 'serious': 1260, 'temperatur': 1452, 'fabul': 504, 'energi': 468, 'crumbl': 342, 'muffin': 935, 'trick': 1527, 'method': 897, 'hair': 657, 'crush': 345, 'sometim': 1328, 'leak': 804, 'chicken': 245, 'mold': 921, 'accept': 2, 'onlin': 989, 'flavorless': 552, 'flat': 550, 'grew': 639, 'tend': 1454, 'general': 601, 'aromat': 71, 'content': 305, 'control': 307, 'constant': 300, 'comment': 282, 'becam': 117, 'whether': 1611, 'oliv': 986, 'promis': 1112, 'soup': 1337, 'afternoon': 23, 'alot': 39, 'main': 861, 'rest': 1187, 'tin': 1489, 'tini': 1490, 'berri': 128, 'cute': 354, 'parti': 1025, 'earth': 447, 'usa': 1556, 'gotten': 623, 'bewar': 134, 'deliveri': 379, 'guy': 655, 'excess': 492, 'unpleas': 1551, 'disgust': 413, 'aw': 90, 'cracker': 328, 'organ': 996, 'absolut': 1, 'ginger': 606, 'chai': 231, 'nasti': 943, 'threw': 1479, 'yuck': 1657, 'plastic': 1061, 'occasion': 975, 'write': 1640, 'buyer': 195, 'granola': 631, 'stash': 1371, 'purs': 1127, 'appar': 62, 'buck': 185, 'club': 269, 'walnut': 1582, 'frozen': 583, 'yogurt': 1651, 'peppermint': 1040, 'averag': 88, 'carton': 220, 'citi': 262, 'thus': 1485, 'felt': 531, 'besid': 129, 'yum': 1658, 'wors': 1632, 'hydrogen': 717, 'tran': 1519, 'chemic': 241, 'websit': 1596, 'edibl': 457, 'walk': 1580, 'tub': 1534, 'empti': 466, 'lie': 817, 'werent': 1603, 'human': 714, 'forev': 563, 'admit': 15, 'rush': 1215, 'sparkl': 1344, 'realiz': 1151, 'mountain': 929, 'credit': 337, 'creamer': 334, 'sandwich': 1228, 'dip': 405, 'freez': 573, 'favor': 523, 'shes': 1274, 'afraid': 22, 'horribl': 707, 'rubber': 1212, 'bug': 187, 'beyond': 135, 'fix': 548, 'eas': 448, 'carrot': 219, 'veget': 1565, 'hear': 677, 'heard': 678, 'seen': 1250, 'choke': 254, 'quantiti': 1130, 'boil': 153, 'worst': 1633, 'line': 824, 'age': 26, 'known': 786, 'drain': 431, 'freezer': 574, 'twine': 1539, 'sudden': 1410, 'disappear': 407, 'spaghetti': 1343, 'gross': 646, 'manner': 871, 'potato': 1083, 'comparison': 287, 'suck': 1409, 'lipton': 827, 'bright': 175, 'sooth': 1333, 'penni': 1037, 'harder': 665, 'most': 927, 'follow': 559, 'advis': 19, 'jerki': 764, 'provid': 1118, 'medium': 888, 'robust': 1203, 'face': 505, 'ruin': 1213, 'fructos': 584, 'flake': 549, 'skip': 1303, 'drive': 439, 'cashew': 222, 'garlic': 598, 'process': 1108, 'attent': 83, 'alcohol': 31, 'raspberri': 1140, 'commerci': 283, 'manufactur': 872, 'steak': 1374, 'season': 1243, 'enhanc': 470, 'mistak': 915, 'stand': 1365, 'tabl': 1436, 'super': 1418, 'trader': 1516, 'joe': 766, 'bear': 114, 'ladi': 792, 'weird': 1600, 'speak': 1345, 'rise': 1200, 'uniqu': 1546, 'sad': 1216, 'trap': 1521, 'materi': 877, 'sorri': 1334, 'anytim': 58, 'ideal': 720, 'distinct': 418, 'banana': 103, 'pomegran': 1072, 'veggi': 1567, 'arent': 69, 'school': 1236, 'bulk': 188, 'toler': 1499, 'defin': 372, 'tuna': 1535, 'tender': 1455, 'egg': 460, 'dislik': 415, 'basket': 110, 'answer': 54, 'refund': 1165, 'began': 122, 'up': 1552, 'beef': 120, 'pork': 1077, 'bone': 155, 'affect': 20, 'concern': 294, 'opinion': 992, 'scent': 1235, 'link': 826, 'anni': 52, 'ten': 1453, 'degre': 374, 'chunk': 260, 'mushi': 938, 'respond': 1185, 'pricey': 1102, 'gluten': 612, 'golden': 617, 'ridicul': 1196, 'supplier': 1423, 'ahead': 29, 'raw': 1144, 'fanci': 516, 'pie': 1052, 'tart': 1443, 'grow': 648, 'condit': 295, 'match': 876, 'dens': 380, 'adjust': 14, 'vegetarian': 1566, 'superior': 1419, 'agre': 28, 'pan': 1019, 'spread': 1359, 'birthday': 140, 'trade': 1515, 'steam': 1375, 'cent': 227, 'mark': 874, 'coconut': 273, 'crunchi': 344, 'wed': 1597, 'accord': 3, 'troubl': 1529, 'awar': 91, 'danger': 358, 'brother': 180, 'hadnt': 656, 'spray': 1358, 'walmart': 1581, 'kibbl': 775, 'slowli': 1308, 'corner': 313, 'repeat': 1177, 'breath': 172, 'option': 993, 'lol': 840, 'dump': 442, 'front': 581, 'jump': 768, 'explain': 499, 'signific': 1288, 'anim': 51, 'fulli': 590, 'burnt': 191, 'nutriti': 969, 'wrote': 1643, 'consider': 298, 'vinegar': 1573, 'hole': 699, 'town': 1511, 'graham': 627, 'pea': 1032, 'herb': 686, 'chop': 257, 'regret': 1168, 'mac': 856, 'kraft': 788, 'medic': 886, 'mug': 936, 'squeez': 1363, 'intoler': 751, 'curri': 351, 'sun': 1416, 'whip': 1612, 'lbs': 801, 'raisin': 1135, 'pumpkin': 1122, 'haribo': 666, 'pud': 1119, 'dessert': 389, 'shame': 1267, 'cough': 317, 'multipl': 937, 'frost': 582, 'word': 1628, 'issu': 755, 'hes': 689, 'boost': 158, 'preserv': 1094, 'written': 1641, 'rough': 1209, 'current': 350, 'strength': 1392, 'canist': 208, 'moist': 919, 'allergi': 33, 'dairi': 356, 'somewher': 1330, 'allerg': 32, 'shouldnt': 1281, 'pamela': 1018, 'mill': 904, 'posit': 1079, 'rais': 1134, 'via': 1571, 'bill': 139, 'bigger': 137, 'initi': 741, 'eater': 454, 'costco': 316, 'smoothi': 1314, 'toddler': 1496, 'relax': 1171, 'grass': 633, 'rang': 1138, 'belli': 126, 'substanc': 1404, 'discount': 410, 'junk': 769, 'older': 985, 'creme': 338, 'period': 1044, 'develop': 393, 'frequent': 576, 'track': 1514, 'automat': 86, 'practic': 1089, 'wrapper': 1639, 'familiar': 514, 'post': 1081, 'mislead': 913, 'sam': 1225, 'tomato': 1500, 'tough': 1509, 'palat': 1017, 'program': 1111, 'support': 1424, 'seattl': 1244, 'hide': 692, 'overpr': 1008, 'kinda': 780, 'assum': 80, 'mocha': 918, 'bob': 151, 'greasi': 636, 'tip': 1491, 'grocer': 644, 'suspect': 1428, 'major': 863, 'understand': 1544, 'bed': 119, 'wild': 1617, 'soggi': 1321, 'expir': 498, 'refer': 1162, 'indic': 734, 'diagnos': 395, 'scienc': 1237, 'account': 4, 'celiac': 226, 'toxic': 1512, 'guest': 652, 'purpos': 1126, 'ined': 736, 'heavi': 682, 'attempt': 82, 'subscrib': 1402, 'generic': 602, 'bore': 159, 'picki': 1050, 'bold': 154, 'turkey': 1536, 'futur': 593, 'protect': 1116, 'pizza': 1056, 'crust': 346, 'summer': 1415, 'vendor': 1568, 'prime': 1103, 'dent': 381, 'intak': 746, 'center': 228, 'print': 1104, 'chili': 248, 'chef': 240, 'wake': 1579, 'fault': 522, 'rip': 1199, 'harsh': 668, 'fake': 511, 'gritti': 643, 'sprout': 1361, 'rave': 1143, 'yeah': 1644, 'strip': 1393, 'storag': 1386, 'short': 1279, 'gravi': 635, 'locat': 839, 'pecan': 1035, 'negat': 949, 'breast': 171, 'msg': 933, 'appli': 66, 'advic': 18, 'pouch': 1084, 'linger': 825, 'mushroom': 939, 'bonus': 156, 'mustard': 941, 'truffl': 1531, 'moistur': 920, 'cancel': 205, 'gooey': 620, 'gag': 594, 'coupon': 324, 'dozen': 430, 'pull': 1120, 'necessari': 946, 'phone': 1047, 'fishi': 545, 'nutrient': 967, 'reorder': 1176, 'bet': 131, 'confirm': 296, 'warehous': 1584, 'foil': 557, 'spoil': 1355, 'biscuit': 141, 'sunflow': 1417, 'vine': 1572, 'god': 614, 'timothi': 1488, 'oili': 982, 'shock': 1277, 'toward': 1510, 'poison': 1071, 'authent': 85, 'yeast': 1646, 'solut': 1324, 'agav': 25, 'household': 711, 'hey': 691, 'newman': 953, 'diarrhea': 396, 'whatsoev': 1608, 'googl': 621, 'activ': 8, 'messi': 895, 'biggest': 138, 'mango': 869, 'rancid': 1137, 'thicker': 1470, 'detect': 392, 'reseal': 1182, 'chose': 258, 'aspartam': 78, 'contamin': 304, 'lab': 789, 'keurig': 774, 'subscript': 1403, 'salsa': 1222, 'doubt': 428, 'listen': 830, 'metal': 896, 'regard': 1167, 'outrag': 1001, 'skeptic': 1301, 'wateri': 1592, 'earlier': 446, 'unopen': 1550, 'rawhid': 1145, 'eight': 461, 'behind': 124, 'non': 957, 'heck': 683, 'subject': 1401}"
     ]
    },
    {
     "name": "stdout",
     "output_type": "stream",
     "text": [
      "\n"
     ]
    }
   ],
   "source": [
    "#tf-idf on train dataset\n",
    "vectorizer = TfidfVectorizer(min_df = 50)#defining our tf-idf model and considering only those words which occur more than 10-\n",
    "#times in our document\n",
    "model = vectorizer.fit(x_train)#Here we are learning the internal parameters (i.e vocabulary) of our train dataset-\n",
    "#- (i.e. review text)\n",
    "print(vectorizer.vocabulary_) #visualizing the parameters learnt (i.e vocabulary)"
   ]
  },
  {
   "cell_type": "code",
   "execution_count": null,
   "metadata": {},
   "outputs": [],
   "source": [
    "train_tfidf = model.transform(x_train)#here we are using the internal parameters we learnt above to convert our reviews \n",
    "#- in x_train into matrices\n",
    "cv_tfidf = model.transform(x_cv)#here we are using the internal parameters we learnt above to convert our reviews in \n",
    "#- x_cv into matrices\n",
    "test_tfidf = model.transform(x_test)#here we are using the internal parameters we learnt above to convert our reviews in \n",
    "#- x_test into matrices"
   ]
  },
  {
   "cell_type": "code",
   "execution_count": null,
   "metadata": {},
   "outputs": [],
   "source": [
    "#here we are first creating a dataframes out of train_tfidf, cv_tfidf and test_tfidf\n",
    "train_tfidf_df = pd.DataFrame(train_tfidf.toarray(),columns = model.get_feature_names())\n",
    "cv_tfidf_df = pd.DataFrame(cv_tfidf.toarray(),columns = model.get_feature_names())\n",
    "test_tfidf_df = pd.DataFrame(test_tfidf.toarray(),columns = model.get_feature_names())"
   ]
  },
  {
   "cell_type": "code",
   "execution_count": null,
   "metadata": {},
   "outputs": [],
   "source": [
    "standardized_train = StandardScaler().fit_transform(train_tfidf_df)\n",
    "standardized_cv = StandardScaler().fit_transform(cv_tfidf_df)\n",
    "standardized_test = StandardScaler().fit_transform(test_tfidf_df)"
   ]
  },
  {
   "cell_type": "markdown",
   "metadata": {},
   "source": [
    "### 3.1 Decision Tree on TFIDF"
   ]
  },
  {
   "cell_type": "code",
   "execution_count": null,
   "metadata": {},
   "outputs": [],
   "source": [
    "#Here we are trying to find area under AUC score along with Confusion matrix for train dataset for various values of-\n",
    "#- C using Logistic Regression\n",
    "train_roc = []\n",
    "min_samples_split_train = []\n",
    "max_depth_train = []\n",
    "max_depth = [4,6,8,9,10,12,14,17]\n",
    "min_samples_split=[2,10,20,30,40,50]\n",
    "for i in max_depth:\n",
    "    for j in min_samples_split: \n",
    "        dt = DecisionTreeClassifier(max_depth = i,min_samples_split=j)\n",
    "        dt.fit(standardized_train,y_train)\n",
    "        pred = dt.predict(standardized_train)\n",
    "        train_roc.append(roc_auc_score(y_train, pred))#roc_auc_score calculates area under the roc curve \n",
    "        min_samples_split_train.append(j)\n",
    "        max_depth_train.append(i)"
   ]
  },
  {
   "cell_type": "code",
   "execution_count": null,
   "metadata": {},
   "outputs": [],
   "source": [
    "#Here we are trying to find area under AUC score along with Confusion matrix for train dataset for various values of-\n",
    "#- C using Logistic Regression\n",
    "cv_roc = []\n",
    "min_samples_split_cv = []\n",
    "max_depth_cv = []\n",
    "max_depth = [4,6,8,9,10,12,14,17]\n",
    "min_samples_split=[2,10,20,30,40,50]\n",
    "for i in max_depth:\n",
    "    for j in min_samples_split: \n",
    "        dt = DecisionTreeClassifier(max_depth = i,min_samples_split=j)\n",
    "        dt.fit(standardized_train,y_train)\n",
    "        pred = dt.predict(standardized_cv)\n",
    "        cv_roc.append(roc_auc_score(y_cv, pred))#roc_auc_score calculates area under the roc curve \n",
    "        min_samples_split_cv.append(j)\n",
    "        max_depth_cv.append(i)"
   ]
  },
  {
   "cell_type": "code",
   "execution_count": null,
   "metadata": {},
   "outputs": [],
   "source": [
    "train_df = pd.DataFrame()\n",
    "train_df['min_samples_split'] = min_samples_split_train\n",
    "train_df['max_depth'] = max_depth_train\n",
    "train_df['train_roc'] = train_roc\n",
    "train_df = train_df.pivot(\"min_samples_split\", \"max_depth\", \"train_roc\")\n",
    "ax = sns.heatmap(train_df, annot=True)"
   ]
  },
  {
   "cell_type": "code",
   "execution_count": null,
   "metadata": {},
   "outputs": [],
   "source": [
    "cv_df = pd.DataFrame()\n",
    "cv_df['min_samples_split'] = min_samples_split_cv\n",
    "cv_df['max_depth'] = max_depth_cv\n",
    "cv_df['cv_roc'] = cv_roc\n",
    "cv_df = cv_df.pivot(\"min_samples_split\", \"max_depth\", \"cv_roc\")\n",
    "ax = sns.heatmap(cv_df, annot=True)"
   ]
  },
  {
   "cell_type": "code",
   "execution_count": null,
   "metadata": {},
   "outputs": [],
   "source": [
    "dt = RandomForestClassifier(max_depth = 100,min_samples_split=60)\n",
    "dt.fit(standardized_train,y_train)\n",
    "pred = dt.predict(standardized_test)\n",
    "print('\\nFor max_depth = {0} and n_estimators = {1}, the area under AUC curve is = {2}'.format(100,60,roc_auc_score(y_test, pred)))"
   ]
  },
  {
   "cell_type": "code",
   "execution_count": null,
   "metadata": {},
   "outputs": [],
   "source": [
    "#plotting our confusion matrix\n",
    "co_mt = confusion_matrix(y_test,pred)\n",
    "class_label = ['negative', 'positive']\n",
    "df_conf_matrix = pd.DataFrame(co_mt, index=class_label, columns=class_label)\n",
    "sns.heatmap(df_conf_matrix, annot=True, fmt='d')\n",
    "plt.title(\"Confusion Matrix\")\n",
    "plt.xlabel(\"Predicted\")\n",
    "plt.ylabel(\"Actual\")\n",
    "plt.show()\n",
    "print(\"_\" * 101)\n",
    "TNR = (co_mt[0][0]/(co_mt[0][0]+co_mt[0][1]))*100# calculating TNR, TPR, FPR, FNR\n",
    "FPR = (co_mt[0][1]/(co_mt[0][0]+co_mt[0][1]))*100\n",
    "TPR = (co_mt[1][1]/(co_mt[1][0]+co_mt[1][1]))*100\n",
    "FNR = (co_mt[1][0]/(co_mt[1][0]+co_mt[1][1]))*100\n",
    "print('\\nFor max_depth = {0} and n_estimators = {1}, the TPR = {2}, TNR = {3}, FPR = {4}, FNR = {5}'.format(100,60,TPR,TNR,FPR,FNR))"
   ]
  },
  {
   "cell_type": "code",
   "execution_count": null,
   "metadata": {},
   "outputs": [],
   "source": [
    "#plotting ROC curve for y_test\n",
    "fpr, tpr, threshold = metrics.roc_curve(y_test, pred)#roc_curve returns true positive rates and false positive rates for y-test\n",
    "roc_auc = metrics.auc(fpr, tpr)#computes area under roc_curve using trapezoidal rule or in other words we can say using inte-\n",
    "#-gration\n",
    "plt.title('Receiver Operating Characteristic')\n",
    "plt.plot(fpr, tpr, 'b', label = 'AUC = %0.2f' % roc_auc)\n",
    "plt.legend(loc = 'lower right')\n",
    "plt.plot([0, 1], [0, 1],'r--')\n",
    "plt.xlim([0, 1])#limiting values of x-axis between 0 and 1\n",
    "plt.ylim([0, 1])#limiting values of y-axis between 0 and 1\n",
    "plt.ylabel('True Positive Rate')\n",
    "plt.xlabel('False Positive Rate')\n",
    "plt.show()"
   ]
  },
  {
   "cell_type": "code",
   "execution_count": null,
   "metadata": {},
   "outputs": [],
   "source": [
    "#Printing top 20 features\n",
    "imp = rfc.feature_importances_\n",
    "indices = np.argsort(imp)[::-1][:20]\n",
    "names = np.array(model.get_feature_names())\n",
    "print('Words','\\t','\\t','\\t','Weights')\n",
    "print('_'*50)\n",
    "for i in indices:\n",
    "    print(names[i],'\\t','\\t','\\t',imp[i])"
   ]
  },
  {
   "cell_type": "code",
   "execution_count": 33,
   "metadata": {},
   "outputs": [],
   "source": [
    "##Graphviz"
   ]
  },
  {
   "cell_type": "markdown",
   "metadata": {},
   "source": [
    "## 4. Word2Vec"
   ]
  },
  {
   "cell_type": "code",
   "execution_count": null,
   "metadata": {},
   "outputs": [],
   "source": [
    "#splitting each of my reviews in x_train into list of, list of stemmed words in each of our stemmed reviews in x_train\n",
    "list_of_sent = []\n",
    "for sent in x_train.values:\n",
    "    list_of_sent.append(sent.split())"
   ]
  },
  {
   "cell_type": "code",
   "execution_count": null,
   "metadata": {},
   "outputs": [],
   "source": [
    "#splitting each of my reviews in x_cv into list of, list of stemmed words in each of our stemmed reviews in x_cv\n",
    "list_of_sent_cv = []\n",
    "for sent in x_cv.values:\n",
    "    list_of_sent_cv.append(sent.split())"
   ]
  },
  {
   "cell_type": "code",
   "execution_count": null,
   "metadata": {},
   "outputs": [],
   "source": [
    "#splitting each of my reviews in x_test into list of, list of stemmed words in each of our stemmed reviews in x_test\n",
    "list_of_sent_test = []\n",
    "for sent in x_test.values:\n",
    "    list_of_sent_test.append(sent.split())"
   ]
  },
  {
   "cell_type": "code",
   "execution_count": null,
   "metadata": {},
   "outputs": [],
   "source": [
    "w2v_model = Word2Vec(list_of_sent,min_count = 5,size = 50,workers = 4) #Here I am creating word2vec representation of each of-\n",
    "#- the words in my 'list_of_sent' list i.e I am creating w2v representation of words in reviews of x_train, where we-\n",
    "#- are creating word2vec vectors for words in 'list_of_sent' list which-\n",
    "#- occur >=5 times in the list. The number of dimensions of our word2ec vectors = 50 and number of cores which will carry-\n",
    "#- on the job parallely = 4\n",
    "print(w2v_model) #returns an iterator\n",
    "#to see which words exist in our w2v-model\n",
    "w2v_words = list(w2v_model.wv.vocab)#Here we are creating list of words, which are keys in dictionary 'w2v_model.wv.vocab'.\n",
    "print(w2v_words)"
   ]
  },
  {
   "cell_type": "markdown",
   "metadata": {},
   "source": [
    "## 4.1 Average Word2Vec"
   ]
  },
  {
   "cell_type": "code",
   "execution_count": null,
   "metadata": {},
   "outputs": [],
   "source": [
    "#average word2vec for each review in x_train\n",
    "sent_vectors = []\n",
    "for sent in tqdm(list_of_sent): #tqdm displays a progress bar. The progress bar tells us the rate at which-\n",
    "    #-the looping operation is taking place\n",
    "    sent_vec = np.zeros(50)# here we are creating numpy array of 50 zeros\n",
    "    cnt_words = 0; #this variable will be used to count the number of words in each element (which is a list) of 'list_of_sent'\n",
    "    for word in sent:\n",
    "        if word in w2v_words:\n",
    "            vec = w2v_model.wv[word]#here we are storing the word2vec representation of each word in sent-\n",
    "            #- which is in 'w2v_words' list\n",
    "            sent_vec += vec #here we are adding all the w2v vectors for each word in a review(or sent)\n",
    "            cnt_words +=1\n",
    "    if cnt_words!=0:\n",
    "        sent_vec/=cnt_words #here we are calculating average w2v for each review(or sent) in x_train\n",
    "    sent_vectors.append(sent_vec)\n",
    "print(len(sent_vectors))\n",
    "print(len(sent_vectors[0]))"
   ]
  },
  {
   "cell_type": "code",
   "execution_count": null,
   "metadata": {},
   "outputs": [],
   "source": [
    "#average word2vec for each review in x_cv\n",
    "sent_vectors_cv = []\n",
    "for sent in tqdm(list_of_sent_cv): #tqdm displays a progress bar. The progress bar tells us the rate at which-\n",
    "    #-the looping operation is taking place\n",
    "    sent_vec = np.zeros(50)# here we are creating numpy array of 50 zeros\n",
    "    cnt_words = 0; #this variable will be used to count the number of words in each element (which is a list) of 'list_of_sent_cv'\n",
    "    for word in sent:\n",
    "        if word in w2v_words:\n",
    "            vec = w2v_model.wv[word]#here we are storing the word2vec representation of each word in sent-\n",
    "            #- which is in 'w2v_words' list\n",
    "            sent_vec += vec #here we are adding all the w2v vectors for each word in a review(or sent)\n",
    "            cnt_words +=1\n",
    "    if cnt_words!=0:\n",
    "        sent_vec/=cnt_words #here we are calculating average w2v for each review(or sent) in x_cv\n",
    "    sent_vectors_cv.append(sent_vec)\n",
    "print(len(sent_vectors_cv))\n",
    "print(len(sent_vectors_cv[0]))"
   ]
  },
  {
   "cell_type": "code",
   "execution_count": null,
   "metadata": {},
   "outputs": [],
   "source": [
    "#average word2vec for each review in x_test\n",
    "sent_vectors_test = []\n",
    "for sent in tqdm(list_of_sent_test): #tqdm displays a progress bar. The progress bar tells us the rate at which-\n",
    "    #-the looping operation is taking place\n",
    "    sent_vec = np.zeros(50)# here we are creating numpy array of 50 zeros\n",
    "    cnt_words = 0; #this variable will be used to count the number of words in each element (which is a list) of 'list_of_sent_test'\n",
    "    for word in sent:\n",
    "        if word in w2v_words:\n",
    "            vec = w2v_model.wv[word]#here we are storing the word2vec representation of each word in sent-\n",
    "            #- which is in 'w2v_words' list\n",
    "            sent_vec += vec #here we are adding all the w2v vectors for each word in a review(or sent)\n",
    "            cnt_words +=1\n",
    "    if cnt_words!=0:\n",
    "        sent_vec/=cnt_words #here we are calculating average w2v for each review(or sent) in x_test\n",
    "    sent_vectors_test.append(sent_vec)\n",
    "print(len(sent_vectors_test))\n",
    "print(len(sent_vectors_test[0]))"
   ]
  },
  {
   "cell_type": "code",
   "execution_count": null,
   "metadata": {},
   "outputs": [],
   "source": [
    "#here we are first creating a dataframe out of sent_vectors, sent_vectors_cv, sent_vectors_test\n",
    "avg_w2v_tr = pd.DataFrame(sent_vectors)\n",
    "avg_w2v_cv = pd.DataFrame(sent_vectors_cv)\n",
    "avg_w2v_te = pd.DataFrame(sent_vectors_test)"
   ]
  },
  {
   "cell_type": "code",
   "execution_count": null,
   "metadata": {},
   "outputs": [],
   "source": [
    "standardized_train = StandardScaler().fit_transform(avg_w2v_tr)\n",
    "standardized_cv = StandardScaler().fit_transform(avg_w2v_cv)\n",
    "standardized_test = StandardScaler().fit_transform(avg_w2v_te)"
   ]
  },
  {
   "cell_type": "markdown",
   "metadata": {},
   "source": [
    "### 4.1.1 Random Forest on Avg W2V"
   ]
  },
  {
   "cell_type": "code",
   "execution_count": null,
   "metadata": {},
   "outputs": [],
   "source": [
    "#Here we are trying to find area under AUC score along with Confusion matrix for train dataset for various values of-\n",
    "#- C using Logistic Regression\n",
    "train_roc = []\n",
    "min_samples_split_train = []\n",
    "max_depth_train = []\n",
    "max_depth = [4,6,8,9,10,12,14,17]\n",
    "min_samples_split=[2,10,20,30,40,50]\n",
    "for i in max_depth:\n",
    "    for j in min_samples_split: \n",
    "        dt = DecisionTreeClassifier(max_depth = i,min_samples_split=j)\n",
    "        dt.fit(standardized_train,y_train)\n",
    "        pred = dt.predict(standardized_train)\n",
    "        train_roc.append(roc_auc_score(y_train, pred))#roc_auc_score calculates area under the roc curve \n",
    "        min_samples_split_train.append(j)\n",
    "        max_depth_train.append(i)"
   ]
  },
  {
   "cell_type": "code",
   "execution_count": null,
   "metadata": {},
   "outputs": [],
   "source": [
    "#Here we are trying to find area under AUC score along with Confusion matrix for train dataset for various values of-\n",
    "#- C using Logistic Regression\n",
    "cv_roc = []\n",
    "min_samples_split_cv = []\n",
    "max_depth_cv = []\n",
    "max_depth = [4,6,8,9,10,12,14,17]\n",
    "min_samples_split=[2,10,20,30,40,50]\n",
    "for i in max_depth:\n",
    "    for j in min_samples_split: \n",
    "        dt = DecisionTreeClassifier(max_depth = i,min_samples_split=j)\n",
    "        dt.fit(standardized_train,y_train)\n",
    "        pred = dt.predict(standardized_cv)\n",
    "        cv_roc.append(roc_auc_score(y_cv, pred))#roc_auc_score calculates area under the roc curve \n",
    "        min_samples_split_cv.append(j)\n",
    "        max_depth_cv.append(i)"
   ]
  },
  {
   "cell_type": "code",
   "execution_count": null,
   "metadata": {},
   "outputs": [],
   "source": [
    "train_df = pd.DataFrame()\n",
    "train_df['min_samples_split'] = min_samples_split_train\n",
    "train_df['max_depth'] = max_depth_train\n",
    "train_df['train_roc'] = train_roc\n",
    "train_df = train_df.pivot(\"min_samples_split\", \"max_depth\", \"train_roc\")\n",
    "ax = sns.heatmap(train_df, annot=True)"
   ]
  },
  {
   "cell_type": "code",
   "execution_count": null,
   "metadata": {},
   "outputs": [],
   "source": [
    "cv_df = pd.DataFrame()\n",
    "cv_df['n_estimators'] = min_samples_split_cv\n",
    "cv_df['max_depth'] = max_depth_cv\n",
    "cv_df['cv_roc'] = cv_roc\n",
    "cv_df = cv_df.pivot(\"min_samples_split\", \"max_depth\", \"cv_roc\")\n",
    "ax = sns.heatmap(cv_df, annot=True)"
   ]
  },
  {
   "cell_type": "code",
   "execution_count": null,
   "metadata": {},
   "outputs": [],
   "source": [
    "rfc = RandomForestClassifier(max_depth = 50,n_estimators=30)\n",
    "rfc.fit(standardized_train,y_train)\n",
    "pred = rfc.predict(standardized_test)\n",
    "print('\\nFor max_depth = {0} and n_estimators = {1}, the area under AUC curve is = {2}'.format(50,30,roc_auc_score(y_test, pred)))"
   ]
  },
  {
   "cell_type": "code",
   "execution_count": null,
   "metadata": {},
   "outputs": [],
   "source": [
    "#plotting our confusion matrix\n",
    "co_mt = confusion_matrix(y_test,pred)\n",
    "class_label = ['negative', 'positive']\n",
    "df_conf_matrix = pd.DataFrame(co_mt, index=class_label, columns=class_label)\n",
    "sns.heatmap(df_conf_matrix, annot=True, fmt='d')\n",
    "plt.title(\"Confusion Matrix\")\n",
    "plt.xlabel(\"Predicted\")\n",
    "plt.ylabel(\"Actual\")\n",
    "plt.show()\n",
    "print(\"_\" * 101)\n",
    "TNR = (co_mt[0][0]/(co_mt[0][0]+co_mt[0][1]))*100# calculating TNR, TPR, FPR, FNR\n",
    "FPR = (co_mt[0][1]/(co_mt[0][0]+co_mt[0][1]))*100\n",
    "TPR = (co_mt[1][1]/(co_mt[1][0]+co_mt[1][1]))*100\n",
    "FNR = (co_mt[1][0]/(co_mt[1][0]+co_mt[1][1]))*100\n",
    "print('\\nFor max_depth = {0} and n_estimators = {1}, the TPR = {2}, TNR = {3}, FPR = {4}, FNR = {5}'.format(50,30,TPR,TNR,FPR,FNR))"
   ]
  },
  {
   "cell_type": "code",
   "execution_count": null,
   "metadata": {},
   "outputs": [],
   "source": [
    "#plotting ROC curve for y_test\n",
    "fpr, tpr, threshold = metrics.roc_curve(y_test, pred)#roc_curve returns true positive rates and false positive rates for y-test\n",
    "roc_auc = metrics.auc(fpr, tpr)#computes area under roc_curve using trapezoidal rule or in other words we can say using inte-\n",
    "#-gration\n",
    "plt.title('Receiver Operating Characteristic')\n",
    "plt.plot(fpr, tpr, 'b', label = 'AUC = %0.2f' % roc_auc)\n",
    "plt.legend(loc = 'lower right')\n",
    "plt.plot([0, 1], [0, 1],'r--')\n",
    "plt.xlim([0, 1])#limiting values of x-axis between 0 and 1\n",
    "plt.ylim([0, 1])#limiting values of y-axis between 0 and 1\n",
    "plt.ylabel('True Positive Rate')\n",
    "plt.xlabel('False Positive Rate')\n",
    "plt.show()"
   ]
  },
  {
   "cell_type": "markdown",
   "metadata": {},
   "source": [
    "### 4.2 Weighted W2V"
   ]
  },
  {
   "cell_type": "code",
   "execution_count": null,
   "metadata": {},
   "outputs": [],
   "source": [
    "#tf-idf on train dataset\n",
    "vectorizer = TfidfVectorizer()#defining our tf-idf model and considering only those words which occur more than 50-\n",
    "#times in our document\n",
    "model = vectorizer.fit(x_train)#Here we are learning the internal parameters (i.e vocabulary) of our train dataset-\n",
    "#- (i.e. review text)\n",
    "print(vectorizer.vocabulary_) #visualizing the parameters learnt (i.e vocabulary)"
   ]
  },
  {
   "cell_type": "code",
   "execution_count": null,
   "metadata": {},
   "outputs": [],
   "source": [
    "#creating dictionary, where keys are words in our dataset and values are their corresponding idf values\n",
    "dictionary_1 = dict(zip(model.get_feature_names(),list(model.idf_)))"
   ]
  },
  {
   "cell_type": "code",
   "execution_count": null,
   "metadata": {},
   "outputs": [],
   "source": [
    "#Weighted word2vec for x_train\n",
    "tfidf_sent_vectors_train = []; # the tfidf-w2v for each sentence/review is stored in this list\n",
    "row=0;\n",
    "for sent in tqdm(list_of_sent): # for each review/sentence \n",
    "    sent_vec = np.zeros(50) # as word vectors are of zero length\n",
    "    weight_sum =0; # num of words with a valid vector in the sentence/review\n",
    "    for word in sent: # for each word in a review/sentence\n",
    "        if word in w2v_words:\n",
    "            vec = w2v_model.wv[word]\n",
    "            tf_idf = dictionary_1[word]*(sent.count(word)/len(sent)) # dictionary[word] = idf value of word in whole courpus-\n",
    "            #- sent.count(word) = tf valeus of word in this review \n",
    "            sent_vec += (vec * tf_idf)\n",
    "            weight_sum += tf_idf\n",
    "    if weight_sum != 0:\n",
    "        sent_vec /= weight_sum\n",
    "    tfidf_sent_vectors_train.append(sent_vec)\n",
    "    row += 1\n",
    "print(len(tfidf_sent_vectors_train))\n",
    "print(len(tfidf_sent_vectors_train[0]))"
   ]
  },
  {
   "cell_type": "code",
   "execution_count": null,
   "metadata": {},
   "outputs": [],
   "source": [
    "#Weighted word2vec for x_cv\n",
    "tfidf_sent_vectors_cv = []; # the tfidf-w2v for each sentence/review is stored in this list\n",
    "for sent in tqdm(list_of_sent_cv): # for each review/sentence \n",
    "    sent_vec = np.zeros(50) # as word vectors are of zero length\n",
    "    weight_sum =0; # num of words with a valid vector in the sentence/review\n",
    "    for word in sent: # for each word in a review/sentence\n",
    "        if word in w2v_words:\n",
    "            vec = w2v_model.wv[word]\n",
    "            tf_idf = dictionary_1[word]*(sent.count(word)/len(sent)) # dictionary[word] = idf value of word in whole courpus-\n",
    "            #- sent.count(word) = tf valeus of word in this review \n",
    "            sent_vec += (vec * tf_idf)\n",
    "            weight_sum += tf_idf\n",
    "    if weight_sum != 0:\n",
    "        sent_vec /= weight_sum\n",
    "    tfidf_sent_vectors_cv.append(sent_vec)\n",
    "    row += 1\n",
    "print(len(tfidf_sent_vectors_cv))\n",
    "print(len(tfidf_sent_vectors_cv[0]))"
   ]
  },
  {
   "cell_type": "code",
   "execution_count": null,
   "metadata": {},
   "outputs": [],
   "source": [
    "#Weighted word2vec for x_test\n",
    "tfidf_sent_vectors_test = []; # the tfidf-w2v for each sentence/review is stored in this list\n",
    "for sent in tqdm(list_of_sent_test): # for each review/sentence \n",
    "    sent_vec = np.zeros(50) # as word vectors are of zero length\n",
    "    weight_sum =0; # num of words with a valid vector in the sentence/review\n",
    "    for word in sent: # for each word in a review/sentence\n",
    "        if word in w2v_words:\n",
    "            vec = w2v_model.wv[word]\n",
    "            tf_idf = dictionary_1[word]*(sent.count(word)/len(sent)) # dictionary[word] = idf value of word in whole courpus-\n",
    "            #- sent.count(word) = tf valeus of word in this review \n",
    "            sent_vec += (vec * tf_idf)\n",
    "            weight_sum += tf_idf\n",
    "    if weight_sum != 0:\n",
    "        sent_vec /= weight_sum\n",
    "    tfidf_sent_vectors_test.append(sent_vec)\n",
    "    row += 1\n",
    "print(len(tfidf_sent_vectors_test))\n",
    "print(len(tfidf_sent_vectors_test[0]))"
   ]
  },
  {
   "cell_type": "code",
   "execution_count": null,
   "metadata": {},
   "outputs": [],
   "source": [
    "#here we are first creating a dataframes out of tfidf_sent_vectors_train, tfidf_sent_vectors_cv and tfidf_sent_vectors_test\n",
    "tfidf_w2v_tr = pd.DataFrame(tfidf_sent_vectors_train)\n",
    "tfidf_w2v_cv = pd.DataFrame(tfidf_sent_vectors_cv)\n",
    "tfidf_w2v_te = pd.DataFrame(tfidf_sent_vectors_test)"
   ]
  },
  {
   "cell_type": "code",
   "execution_count": null,
   "metadata": {},
   "outputs": [],
   "source": [
    "standardized_train = StandardScaler().fit_transform(tfidf_w2v_tr)\n",
    "standardized_cv = StandardScaler().fit_transform(tfidf_w2v_cv)\n",
    "standardized_test = StandardScaler().fit_transform(tfidf_w2v_te)"
   ]
  },
  {
   "cell_type": "markdown",
   "metadata": {},
   "source": [
    "### 4.2.1 Decision Trees on Weighted W2V"
   ]
  },
  {
   "cell_type": "code",
   "execution_count": null,
   "metadata": {},
   "outputs": [],
   "source": [
    "#Here we are trying to find area under AUC score along with Confusion matrix for train dataset for various values of-\n",
    "#- C using Logistic Regression\n",
    "train_roc = []\n",
    "min_samples_split_train = []\n",
    "max_depth_train = []\n",
    "max_depth = [4,6,8,9,10,12,14,17]\n",
    "min_samples_split=[2,10,20,30,40,50]\n",
    "for i in max_depth:\n",
    "    for j in min_samples_split: \n",
    "        dt = DecisionTreeClassifier(max_depth = i,min_samples_split=j)\n",
    "        dt.fit(standardized_train,y_train)\n",
    "        pred = dt.predict(standardized_train)\n",
    "        train_roc.append(roc_auc_score(y_train, pred))#roc_auc_score calculates area under the roc curve \n",
    "        min_samples_split_train.append(j)\n",
    "        max_depth_train.append(i)"
   ]
  },
  {
   "cell_type": "code",
   "execution_count": null,
   "metadata": {},
   "outputs": [],
   "source": [
    "#Here we are trying to find area under AUC score along with Confusion matrix for train dataset for various values of-\n",
    "#- C using Logistic Regression\n",
    "cv_roc = []\n",
    "min_samples_split_cv = []\n",
    "max_depth_cv = []\n",
    "max_depth = [4,6,8,9,10,12,14,17]\n",
    "min_samples_split=[2,10,20,30,40,50]\n",
    "for i in max_depth:\n",
    "    for j in min_samples_split: \n",
    "        dt = DecisionTreeClassifier(max_depth = i,min_samples_split=j)\n",
    "        dt.fit(standardized_train,y_train)\n",
    "        pred = dt.predict(standardized_cv)\n",
    "        cv_roc.append(roc_auc_score(y_cv, pred))#roc_auc_score calculates area under the roc curve \n",
    "        min_samples_split_cv.append(j)\n",
    "        max_depth_cv.append(i)"
   ]
  },
  {
   "cell_type": "code",
   "execution_count": null,
   "metadata": {},
   "outputs": [],
   "source": [
    "train_df = pd.DataFrame()\n",
    "train_df['min_samples_split'] = min_samples_split_train\n",
    "train_df['max_depth'] = max_depth_train\n",
    "train_df['train_roc'] = train_roc\n",
    "train_df = train_df.pivot(\"min_samples_split\", \"max_depth\", \"train_roc\")\n",
    "ax = sns.heatmap(train_df, annot=True)"
   ]
  },
  {
   "cell_type": "code",
   "execution_count": null,
   "metadata": {},
   "outputs": [],
   "source": [
    "cv_df = pd.DataFrame()\n",
    "cv_df['n_estimators'] = min_samples_split_cv\n",
    "cv_df['max_depth'] = max_depth_cv\n",
    "cv_df['cv_roc'] = cv_roc\n",
    "cv_df = cv_df.pivot(\"min_samples_split\", \"max_depth\", \"cv_roc\")\n",
    "ax = sns.heatmap(cv_df, annot=True)"
   ]
  },
  {
   "cell_type": "code",
   "execution_count": null,
   "metadata": {},
   "outputs": [],
   "source": [
    "rfc = RandomForestClassifier(max_depth = 50,n_estimators=30)\n",
    "rfc.fit(standardized_train,y_train)\n",
    "pred = rfc.predict(standardized_test)\n",
    "print('\\nFor max_depth = {0} and n_estimators = {1}, the area under AUC curve is = {2}'.format(50,30,roc_auc_score(y_test, pred)))"
   ]
  },
  {
   "cell_type": "code",
   "execution_count": null,
   "metadata": {},
   "outputs": [],
   "source": [
    "#plotting our confusion matrix\n",
    "co_mt = confusion_matrix(y_test,pred)\n",
    "class_label = ['negative', 'positive']\n",
    "df_conf_matrix = pd.DataFrame(co_mt, index=class_label, columns=class_label)\n",
    "sns.heatmap(df_conf_matrix, annot=True, fmt='d')\n",
    "plt.title(\"Confusion Matrix\")\n",
    "plt.xlabel(\"Predicted\")\n",
    "plt.ylabel(\"Actual\")\n",
    "plt.show()\n",
    "print(\"_\" * 101)\n",
    "TNR = (co_mt[0][0]/(co_mt[0][0]+co_mt[0][1]))*100# calculating TNR, TPR, FPR, FNR\n",
    "FPR = (co_mt[0][1]/(co_mt[0][0]+co_mt[0][1]))*100\n",
    "TPR = (co_mt[1][1]/(co_mt[1][0]+co_mt[1][1]))*100\n",
    "FNR = (co_mt[1][0]/(co_mt[1][0]+co_mt[1][1]))*100\n",
    "print('\\nFor max_depth = {0} and n_estimators = {1}, the TPR = {2}, TNR = {3}, FPR = {4}, FNR = {5}'.format(50,30,TPR,TNR,FPR,FNR))"
   ]
  },
  {
   "cell_type": "code",
   "execution_count": null,
   "metadata": {},
   "outputs": [],
   "source": [
    "#plotting ROC curve for y_test\n",
    "fpr, tpr, threshold = metrics.roc_curve(y_test, pred)#roc_curve returns true positive rates and false positive rates for y-test\n",
    "roc_auc = metrics.auc(fpr, tpr)#computes area under roc_curve using trapezoidal rule or in other words we can say using inte-\n",
    "#-gration\n",
    "plt.title('Receiver Operating Characteristic')\n",
    "plt.plot(fpr, tpr, 'b', label = 'AUC = %0.2f' % roc_auc)\n",
    "plt.legend(loc = 'lower right')\n",
    "plt.plot([0, 1], [0, 1],'r--')\n",
    "plt.xlim([0, 1])#limiting values of x-axis between 0 and 1\n",
    "plt.ylim([0, 1])#limiting values of y-axis between 0 and 1\n",
    "plt.ylabel('True Positive Rate')\n",
    "plt.xlabel('False Positive Rate')\n",
    "plt.show()"
   ]
  },
  {
   "cell_type": "markdown",
   "metadata": {},
   "source": [
    "# [5] Conclusions"
   ]
  },
  {
   "cell_type": "code",
   "execution_count": null,
   "metadata": {},
   "outputs": [],
   "source": []
  },
  {
   "cell_type": "code",
   "execution_count": 114,
   "metadata": {},
   "outputs": [
    {
     "data": {
      "text/html": [
       "<div>\n",
       "<style scoped>\n",
       "    .dataframe tbody tr th:only-of-type {\n",
       "        vertical-align: middle;\n",
       "    }\n",
       "\n",
       "    .dataframe tbody tr th {\n",
       "        vertical-align: top;\n",
       "    }\n",
       "\n",
       "    .dataframe thead th {\n",
       "        text-align: right;\n",
       "    }\n",
       "</style>\n",
       "<table border=\"1\" class=\"dataframe\">\n",
       "  <thead>\n",
       "    <tr style=\"text-align: right;\">\n",
       "      <th></th>\n",
       "      <th>Vectorizer</th>\n",
       "      <th>Regualrizer</th>\n",
       "      <th>Hyperparameter</th>\n",
       "      <th>AUC</th>\n",
       "      <th>TPR</th>\n",
       "      <th>TNR</th>\n",
       "      <th>FPR</th>\n",
       "      <th>FNR</th>\n",
       "    </tr>\n",
       "  </thead>\n",
       "  <tbody>\n",
       "    <tr>\n",
       "      <th>0</th>\n",
       "      <td>BOW</td>\n",
       "      <td>L1</td>\n",
       "      <td>0.0100</td>\n",
       "      <td>0.865780</td>\n",
       "      <td>89.924195</td>\n",
       "      <td>83.231765</td>\n",
       "      <td>16.768235</td>\n",
       "      <td>10.075805</td>\n",
       "    </tr>\n",
       "    <tr>\n",
       "      <th>1</th>\n",
       "      <td>BOW</td>\n",
       "      <td>L2</td>\n",
       "      <td>0.0001</td>\n",
       "      <td>0.863351</td>\n",
       "      <td>90.619078</td>\n",
       "      <td>82.051038</td>\n",
       "      <td>17.948962</td>\n",
       "      <td>9.380922</td>\n",
       "    </tr>\n",
       "    <tr>\n",
       "      <th>2</th>\n",
       "      <td>TFIDF</td>\n",
       "      <td>L1</td>\n",
       "      <td>0.0100</td>\n",
       "      <td>0.871294</td>\n",
       "      <td>89.208254</td>\n",
       "      <td>85.050467</td>\n",
       "      <td>14.949533</td>\n",
       "      <td>10.791746</td>\n",
       "    </tr>\n",
       "    <tr>\n",
       "      <th>3</th>\n",
       "      <td>TFIDF</td>\n",
       "      <td>L2</td>\n",
       "      <td>0.0010</td>\n",
       "      <td>0.867399</td>\n",
       "      <td>89.029269</td>\n",
       "      <td>84.450581</td>\n",
       "      <td>15.549419</td>\n",
       "      <td>10.970731</td>\n",
       "    </tr>\n",
       "    <tr>\n",
       "      <th>4</th>\n",
       "      <td>Average W2V</td>\n",
       "      <td>L1</td>\n",
       "      <td>0.1000</td>\n",
       "      <td>0.832666</td>\n",
       "      <td>86.186566</td>\n",
       "      <td>80.346601</td>\n",
       "      <td>19.653399</td>\n",
       "      <td>13.813434</td>\n",
       "    </tr>\n",
       "    <tr>\n",
       "      <th>5</th>\n",
       "      <td>Average W2V</td>\n",
       "      <td>L2</td>\n",
       "      <td>0.0100</td>\n",
       "      <td>0.832375</td>\n",
       "      <td>86.176037</td>\n",
       "      <td>80.298991</td>\n",
       "      <td>19.701009</td>\n",
       "      <td>13.823963</td>\n",
       "    </tr>\n",
       "    <tr>\n",
       "      <th>6</th>\n",
       "      <td>Weighted W2V</td>\n",
       "      <td>L1</td>\n",
       "      <td>0.0100</td>\n",
       "      <td>0.800534</td>\n",
       "      <td>83.607075</td>\n",
       "      <td>76.499714</td>\n",
       "      <td>23.500286</td>\n",
       "      <td>16.392925</td>\n",
       "    </tr>\n",
       "    <tr>\n",
       "      <th>7</th>\n",
       "      <td>Weighted W2V</td>\n",
       "      <td>L2</td>\n",
       "      <td>0.0100</td>\n",
       "      <td>0.799531</td>\n",
       "      <td>83.501790</td>\n",
       "      <td>76.404494</td>\n",
       "      <td>23.595506</td>\n",
       "      <td>16.498210</td>\n",
       "    </tr>\n",
       "  </tbody>\n",
       "</table>\n",
       "</div>"
      ],
      "text/plain": [
       "     Vectorizer Regualrizer  Hyperparameter       AUC        TPR        TNR  \\\n",
       "0           BOW          L1          0.0100  0.865780  89.924195  83.231765   \n",
       "1           BOW          L2          0.0001  0.863351  90.619078  82.051038   \n",
       "2         TFIDF          L1          0.0100  0.871294  89.208254  85.050467   \n",
       "3         TFIDF          L2          0.0010  0.867399  89.029269  84.450581   \n",
       "4   Average W2V          L1          0.1000  0.832666  86.186566  80.346601   \n",
       "5   Average W2V          L2          0.0100  0.832375  86.176037  80.298991   \n",
       "6  Weighted W2V          L1          0.0100  0.800534  83.607075  76.499714   \n",
       "7  Weighted W2V          L2          0.0100  0.799531  83.501790  76.404494   \n",
       "\n",
       "         FPR        FNR  \n",
       "0  16.768235  10.075805  \n",
       "1  17.948962   9.380922  \n",
       "2  14.949533  10.791746  \n",
       "3  15.549419  10.970731  \n",
       "4  19.653399  13.813434  \n",
       "5  19.701009  13.823963  \n",
       "6  23.500286  16.392925  \n",
       "7  23.595506  16.498210  "
      ]
     },
     "execution_count": 114,
     "metadata": {},
     "output_type": "execute_result"
    }
   ],
   "source": [
    "list_1 = [['BOW','L1',0.01, 0.8657797997265029, 89.92419456727733,83.23176537802324,16.768234621976767,10.075805432722678],\n",
    "         ['BOW','L2',0.0001,0.8633505779905593,90.61907770056854,82.05103789754332,17.948962102456676, 9.38092229943146],\n",
    "         ['TFIDF','L1',0.01,0.8712936047356781,89.2082543693409,85.05046657779471,14.949533422205294,10.791745630659086],\n",
    "         ['TFIDF','L2',0.001,0.8673992508080061,89.02926931985681,84.45058084174443,15.54941915825557,10.970730680143188],\n",
    "         ['Average W2V','L1',0.1,0.8326658312012605,86.18656559275637,80.34660064749572,19.653399352504287,13.81343440724363],\n",
    "         ['Average W2V','L2',0.01,0.8323751386443894,86.17603706043377,80.2989906684441,19.701009331555895,13.823962939566226],\n",
    "         ['Weighted W2V','L1',0.01,0.8005339475692325,83.60707517372077,76.49971434012569,23.500285659874308,16.392924826279216],\n",
    "         ['Weighted W2V','L2',0.01,0.7995314211625865,83.50178985049484,76.40449438202246,23.595505617977526,16.49821014950516]]\n",
    "columns= ['Vectorizer', 'Regualrizer', 'Hyperparameter','AUC', 'TPR','TNR','FPR','FNR' ]\n",
    "pd.DataFrame(list_1,columns = columns)"
   ]
  },
  {
   "cell_type": "markdown",
   "metadata": {},
   "source": [
    "<pre>1. We can see from above table that Logistic Regression with L1 regularizer performs best on TFIDF vector representation of our reviews in determining whether a review is positive or not.</pre>\n",
    "<pre>2. Logistic Regression + L1 regularizer + TFIDF vector representation also gives us the least biased model.</pre>\n",
    "<pre>3. On the basis of AUC score, our models from best to worst are as follows:\n",
    "<b>Logistic Regression + L1 regularizer + TFIDF > Logistic Regression + L2 regularizer + TFIDF > Logistic Regression + L1 regularizer + BOW > Logistic Regression + L2 regularizer + BOW > Logistic Regression + L1 regularizer + Avg W2V > Logistic Regression + L2 regularizer + Avg W2V > Logistic Regression + L1 regularizer + Weighted W2V > Logistic Regression + L2 regularizer + Weighted W2V</b></pre>"
   ]
  },
  {
   "cell_type": "code",
   "execution_count": null,
   "metadata": {},
   "outputs": [],
   "source": []
  }
 ],
 "metadata": {
  "kernelspec": {
   "display_name": "Python 3",
   "language": "python",
   "name": "python3"
  },
  "language_info": {
   "codemirror_mode": {
    "name": "ipython",
    "version": 3
   },
   "file_extension": ".py",
   "mimetype": "text/x-python",
   "name": "python",
   "nbconvert_exporter": "python",
   "pygments_lexer": "ipython3",
   "version": "3.7.3"
  }
 },
 "nbformat": 4,
 "nbformat_minor": 2
}
